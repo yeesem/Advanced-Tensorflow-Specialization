{
  "nbformat": 4,
  "nbformat_minor": 0,
  "metadata": {
    "colab": {
      "provenance": [],
      "authorship_tag": "ABX9TyMxcQRKWEA0m9eV9PnMMKiM",
      "include_colab_link": true
    },
    "kernelspec": {
      "name": "python3",
      "display_name": "Python 3"
    },
    "language_info": {
      "name": "python"
    }
  },
  "cells": [
    {
      "cell_type": "markdown",
      "metadata": {
        "id": "view-in-github",
        "colab_type": "text"
      },
      "source": [
        "<a href=\"https://colab.research.google.com/github/yeesem/Advanced-Tensorflow-Specialization/blob/main/Extract_Stocks_by_Sector.ipynb\" target=\"_parent\"><img src=\"https://colab.research.google.com/assets/colab-badge.svg\" alt=\"Open In Colab\"/></a>"
      ]
    },
    {
      "cell_type": "code",
      "execution_count": 1,
      "metadata": {
        "id": "RRiQ65I2ALXs"
      },
      "outputs": [],
      "source": [
        "from bs4 import BeautifulSoup\n",
        "import numpy as np\n",
        "import matplotlib.pyplot as plt\n",
        "import seaborn as sns\n",
        "import pandas as pd\n",
        "import requests"
      ]
    },
    {
      "cell_type": "code",
      "source": [
        "'''\n",
        "Comsumer          - 0001I\n",
        "Transportation    - 0064I\n",
        "Utility           - 0065I\n",
        "Telecommunication - 0063I\n",
        "Health Care       - 0062I\n",
        "'''\n",
        "\n",
        "headers = {\n",
        "    \"User-Agent\": \"Mozilla/5.0 (X11; Ubuntu; Linux x86_64; rv:109.0) Gecko/20100101 Firefox/117.0\"\n",
        "}\n",
        "\n",
        "priceTargetUrl = 'https://www.klsescreener.com/v2/markets/bursa/0001I'\n",
        "page = requests.get(priceTargetUrl,headers = headers)\n",
        "html = page.content\n",
        "soup = BeautifulSoup(html)"
      ],
      "metadata": {
        "id": "yhXjdSJqAXCN"
      },
      "execution_count": 2,
      "outputs": []
    },
    {
      "cell_type": "code",
      "source": [
        "sector_codes = [\"0001I\", \"0064I\", \"0065I\", \"0063I\", \"0062I\"]"
      ],
      "metadata": {
        "id": "L4GxxVJYdkeZ"
      },
      "execution_count": 7,
      "outputs": []
    },
    {
      "cell_type": "code",
      "source": [
        "test = [x.text.strip() for x in soup.find_all('div', class_ = \"card-body\")]"
      ],
      "metadata": {
        "id": "aszmWGUlAfNy"
      },
      "execution_count": 3,
      "outputs": []
    },
    {
      "cell_type": "code",
      "source": [
        "[x for x in test[3].replace(\"\\n\",\" \").split(\" \") if x]"
      ],
      "metadata": {
        "colab": {
          "base_uri": "https://localhost:8080/"
        },
        "id": "azCaQWNEB72a",
        "outputId": "3d82443c-dcf0-4f03-81a7-f09aa6be928d"
      },
      "execution_count": 4,
      "outputs": [
        {
          "output_type": "execute_result",
          "data": {
            "text/plain": [
              "['NESTLE',\n",
              " '100.600',\n",
              " '23.5B',\n",
              " '0.860',\n",
              " '(0.9%)',\n",
              " '674',\n",
              " 'Food',\n",
              " '&',\n",
              " 'Beverages']"
            ]
          },
          "metadata": {},
          "execution_count": 4
        }
      ]
    },
    {
      "cell_type": "code",
      "source": [
        "test[3].split()"
      ],
      "metadata": {
        "colab": {
          "base_uri": "https://localhost:8080/"
        },
        "id": "0LUd6VXJAgTY",
        "outputId": "2bc8dacf-2836-4bcb-f9ea-d87f4e63029f"
      },
      "execution_count": 5,
      "outputs": [
        {
          "output_type": "execute_result",
          "data": {
            "text/plain": [
              "['NESTLE',\n",
              " '100.600',\n",
              " '23.5B',\n",
              " '0.860',\n",
              " '(0.9%)',\n",
              " '674',\n",
              " 'Food',\n",
              " '&',\n",
              " 'Beverages']"
            ]
          },
          "metadata": {},
          "execution_count": 5
        }
      ]
    },
    {
      "cell_type": "code",
      "source": [
        "def aggregrate_stocks_by_sector(sector_code, sector_dict):\n",
        "  headers = {\n",
        "    \"User-Agent\": \"Mozilla/5.0 (X11; Ubuntu; Linux x86_64; rv:109.0) Gecko/20100101 Firefox/117.0\"\n",
        "  }\n",
        "\n",
        "  priceTargetUrl = f'https://www.klsescreener.com/v2/markets/bursa/{sector_code}'\n",
        "  page = requests.get(priceTargetUrl,headers = headers)\n",
        "  html = page.content\n",
        "  soup = BeautifulSoup(html)\n",
        "\n",
        "  raw_stock_data = [x.text.strip() for x in soup.find_all('div', class_ = \"card-body\")]\n",
        "\n",
        "  for stock_data in raw_stock_data[3:]:\n",
        "   formatted_stock_data = stock_data.split()\n",
        "   if formatted_stock_data[4][0] != '(':\n",
        "     if ' '.join(formatted_stock_data[4:]) not in sector_dict:\n",
        "       sector_dict[' '.join(formatted_stock_data[4:])] = []\n",
        "       sector_dict[' '.join(formatted_stock_data[4:])].append(formatted_stock_data[0 : 4] + [' '.join(formatted_stock_data[4:])])\n",
        "     else:\n",
        "       sector_dict[' '.join(formatted_stock_data[4:])].append(formatted_stock_data[0 : 4] + [' '.join(formatted_stock_data[4:])])\n",
        "   else:\n",
        "     if ' '.join(formatted_stock_data[6:]) not in sector_dict:\n",
        "       sector_dict[' '.join(formatted_stock_data[6:])] = []\n",
        "       sector_dict[' '.join(formatted_stock_data[6:])].append(formatted_stock_data[0 : 6] + [' '.join(formatted_stock_data[6:])])\n",
        "     else:\n",
        "       sector_dict[' '.join(formatted_stock_data[6:])].append(formatted_stock_data[0 : 6] + [' '.join(formatted_stock_data[6:])])\n",
        "\n",
        "  return sector_dict"
      ],
      "metadata": {
        "id": "JcnxLidPC7Lr"
      },
      "execution_count": 45,
      "outputs": []
    },
    {
      "cell_type": "code",
      "source": [
        "consumer_sector = {}\n",
        "consumer_sector = aggregrate_stocks_by_sector(\"0001I\", consumer_sector)\n",
        "\n",
        "for sector, stock_list in consumer_sector.items():\n",
        "  print(sector, \" : \")\n",
        "  print(\"----------------------------------------\")\n",
        "  for stock in stock_list:\n",
        "    print(stock)\n",
        "  print()"
      ],
      "metadata": {
        "colab": {
          "base_uri": "https://localhost:8080/"
        },
        "id": "8sNs5w-IgtP7",
        "outputId": "f0da6dc5-d3c9-4906-f917-43d57c51e57a"
      },
      "execution_count": 48,
      "outputs": [
        {
          "output_type": "stream",
          "name": "stdout",
          "text": [
            "Food & Beverages  : \n",
            "----------------------------------------\n",
            "['NESTLE', '100.600', '23.5B', '0.860', '(0.9%)', '674', 'Food & Beverages']\n",
            "['DLADY', '30.360', '1.9B', '0.340', '(1.1%)', '73', 'Food & Beverages']\n",
            "['HEIM', '23.120', '6.9B', '0.260', '(1.1%)', '899', 'Food & Beverages']\n",
            "['CARLSBG', '19.200', '5.8B', '0.220', '(1.2%)', '1,045', 'Food & Beverages']\n",
            "['GCB', '3.070', '3.6B', '0.130', '(4.4%)', '45,368', 'Food & Beverages']\n",
            "['F&N', '29.300', '10.7B', '0.100', '(0.3%)', '115', 'Food & Beverages']\n",
            "['CIHLDG', '3.090', '500.5M', '0.070', '(2.3%)', '498', 'Food & Beverages']\n",
            "['MFLOUR', '0.745', '923.1M', '0.010', '(1.4%)', '3,790', 'Food & Beverages']\n",
            "['FFB', '1.610', '3B', '0.010', '(0.6%)', '46,751', 'Food & Beverages']\n",
            "['MSM', '1.170', '822.4M', '10,384', 'Food & Beverages']\n",
            "['KHEESAN', '0.225', '30.8M', '0', 'Food & Beverages']\n",
            "['HBGLOB', '0.105', '82.1M', '3,282', 'Food & Beverages']\n",
            "['MAG', '0.175', '294M', '22', 'Food & Beverages']\n",
            "['LOTUS', '0.190', '196.2M', '0', 'Food & Beverages']\n",
            "['HWATAI', '0.565', '42.2M', '0', 'Food & Beverages']\n",
            "['BIOHLDG', '0.080', '112.5M', '0', 'Food & Beverages']\n",
            "['CNOUHUA', '0.055', '36.7M', '0', 'Food & Beverages']\n",
            "['ABLEGLOB', '2.000', '620.9M', '7,107', 'Food & Beverages']\n",
            "['HARISON', '8.500', '582.1M', '0', 'Food & Beverages']\n",
            "['ASTRA', '0.500', '136M', '0', 'Food & Beverages']\n",
            "['GOCEAN', '0.155', '32.7M', '3,847', 'Food & Beverages']\n",
            "['REX', '0.100', '65.7M', '450', 'Food & Beverages']\n",
            "['CARZO', '0.300', '28.6M', '0', 'Food & Beverages']\n",
            "['OCB', '0.855', '87.9M', '0', 'Food & Beverages']\n",
            "['3A', '0.910', '447.7M', '1,397', 'Food & Beverages']\n",
            "['KAWAN', '1.690', '614.9M', '451', 'Food & Beverages']\n",
            "['SAUDEE', '0.015', '23.4M', '0.005', '(25%)', '3,346', 'Food & Beverages']\n",
            "['WELLS', '0.655', '466.4M', '0.005', '(0.8%)', '9,601', 'Food & Beverages']\n",
            "['SPRITZER', '2.550', '814.2M', '0.010', '(0.4%)', '383', 'Food & Beverages']\n",
            "['CCK', '1.650', '1B', '0.010', '(0.6%)', '10,861', 'Food & Beverages']\n",
            "['APOLLO', '6.510', '520.8M', '0.010', '(0.2%)', '4', 'Food & Beverages']\n",
            "['MAGMA', '0.200', '189.5M', '0.010', '(4.8%)', '14,131', 'Food & Beverages']\n",
            "['PTRB', '0.565', '302.2M', '0.015', '(2.6%)', '1,912', 'Food & Beverages']\n",
            "['HUPSENG', '1.120', '896M', '0.020', '(1.8%)', '5,441', 'Food & Beverages']\n",
            "['PWROOT', '1.480', '684M', '0.020', '(1.3%)', '233', 'Food & Beverages']\n",
            "['ORGABIO', '0.350', '86.7M', '0.025', '(6.7%)', '11,552', 'Food & Beverages']\n",
            "['OFI', '1.770', '424.8M', '0.030', '(1.7%)', '4,046', 'Food & Beverages']\n",
            "['SDS', '1.090', '446.4M', '0.050', '(4.4%)', '11,691', 'Food & Beverages']\n",
            "['PPB', '14.420', '20.5B', '0.080', '(0.6%)', '1,594', 'Food & Beverages']\n",
            "['AJI', '14.560', '885.2M', '0.300', '(2%)', '918', 'Food & Beverages']\n",
            "\n",
            "Retailers  : \n",
            "----------------------------------------\n",
            "['PETDAG', '21.260', '21.1B', '0.400', '(1.9%)', '3,963', 'Retailers']\n",
            "['TOMEI', '1.860', '257.7M', '0.040', '(2.2%)', '1,965', 'Retailers']\n",
            "['MRDIY', '2.080', '19.6B', '0.020', '(1%)', '31,080', 'Retailers']\n",
            "['POHKONG', '1.130', '463.6M', '0.010', '(0.9%)', '4,656', 'Retailers']\n",
            "['ATLAN', '2.680', '679.7M', '0.010', '(0.4%)', '378', 'Retailers']\n",
            "['AMWAY', '6.850', '1.1B', '0.010', '(0.1%)', '116', 'Retailers']\n",
            "['SENHENG', '0.290', '434.9M', '0.005', '(1.8%)', '899', 'Retailers']\n",
            "['MYNEWS', '0.590', '442.7M', '151', 'Retailers']\n",
            "['DXN', '0.620', '3B', '8,556', 'Retailers']\n",
            "['KAMDAR', '0.300', '59.3M', '0', 'Retailers']\n",
            "['BESHOM', '0.910', '273M', '115', 'Retailers']\n",
            "['KHJB', '0.145', '55.1M', '0.005', '(3.3%)', '180', 'Retailers']\n",
            "['MSTGOLF', '0.275', '225.7M', '0.010', '(3.5%)', '12,649', 'Retailers']\n",
            "['SEM', '1.970', '2.3B', '0.010', '(0.5%)', '20', 'Retailers']\n",
            "['PARKSON', '0.175', '201M', '0.015', '(7.9%)', '34,707', 'Retailers']\n",
            "['PADINI', '3.250', '2.1B', '0.020', '(0.6%)', '1,948', 'Retailers']\n",
            "['AEON', '1.490', '2B', '0.050', '(3.2%)', '20,955', 'Retailers']\n",
            "\n",
            "Automotive  : \n",
            "----------------------------------------\n",
            "['MBMR', '5.880', '2.2B', '0.210', '(3.7%)', '7,487', 'Automotive']\n",
            "['BAUTO', '2.470', '2.8B', '0.030', '(1.2%)', '9,853', 'Automotive']\n",
            "['PERMAJU', '0.040', '78.2M', '200', 'Automotive']\n",
            "['TCHONG', '0.725', '487.2M', '190', 'Automotive']\n",
            "['SOLID', '0.205', '106.4M', '0.005', '(2.4%)', '1,003', 'Automotive']\n",
            "['NHFATT', '1.860', '307.5M', '0.020', '(1.1%)', '662', 'Automotive']\n",
            "['SIME', '2.410', '16.4B', '0.030', '(1.2%)', '76,201', 'Automotive']\n",
            "['ORIENT', '6.840', '4.2B', '0.050', '(0.7%)', '632', 'Automotive']\n",
            "['DRBHCOM', '1.170', '2.2B', '0.060', '(4.9%)', '20,479', 'Automotive']\n",
            "['HLIND', '12.500', '4B', '0.160', '(1.3%)', '811', 'Automotive']\n",
            "\n",
            "Agricultural Products  : \n",
            "----------------------------------------\n",
            "['TECGUAN', '1.740', '69.7M', '0.100', '(6.1%)', '1', 'Agricultural Products']\n",
            "['LTKM', '1.400', '200.3M', '0.050', '(3.7%)', '20', 'Agricultural Products']\n",
            "['RHONEMA', '0.710', '157M', '0.020', '(2.9%)', '352', 'Agricultural Products']\n",
            "['GREENYB', '0.260', '140.9M', '0.005', '(2%)', '1,302', 'Agricultural Products']\n",
            "['TPC', '0.350', '107.8M', '0', 'Agricultural Products']\n",
            "['PLABS', '0.190', '52.2M', '1,296', 'Agricultural Products']\n",
            "['AORB', '3.500', '350M', '0', 'Agricultural Products']\n",
            "['SMCAP', '0.085', '36.8M', '0', 'Agricultural Products']\n",
            "['LAYHONG', '0.365', '276M', '2,507', 'Agricultural Products']\n",
            "['SUNZEN', '0.320', '234M', '0.005', '(1.5%)', '476', 'Agricultural Products']\n",
            "['YENHER', '0.860', '258M', '0.005', '(0.6%)', '310', 'Agricultural Products']\n",
            "['LHI', '0.605', '2.2B', '0.010', '(1.6%)', '20,209', 'Agricultural Products']\n",
            "['PWF', '0.890', '282.8M', '0.015', '(1.7%)', '5,846', 'Agricultural Products']\n",
            "['CAB', '0.655', '459.7M', '0.015', '(2.2%)', '1,123', 'Agricultural Products']\n",
            "['TEOSENG', '1.860', '558M', '0.020', '(1.1%)', '3,089', 'Agricultural Products']\n",
            "['QL', '6.460', '15.7B', '0.040', '(0.6%)', '8,701', 'Agricultural Products']\n",
            "\n",
            "Houshold Goods  : \n",
            "----------------------------------------\n",
            "['EUROSP', '1.590', '70.6M', '0.090', '(6%)', '277', 'Houshold Goods']\n",
            "['FIHB', '0.435', '63M', '0.025', '(6.1%)', '3,300', 'Houshold Goods']\n",
            "['LIIHEN', '0.850', '459M', '0.010', '(1.2%)', '1,903', 'Houshold Goods']\n",
            "['ECOMATE', '0.870', '311.4M', '0.010', '(1.2%)', '4,638', 'Houshold Goods']\n",
            "['HEXRTL', '0.485', '239.1M', '0.005', '(1%)', '886', 'Houshold Goods']\n",
            "['SERNKOU', '0.885', '954.1M', '0.005', '(0.6%)', '19,690', 'Houshold Goods']\n",
            "['MOBILIA', '0.170', '119M', '0.005', '(3%)', '5,745', 'Houshold Goods']\n",
            "['SHH', '1.280', '127.9M', '0', 'Houshold Goods']\n",
            "['MILUX', '0.525', '123.4M', '0', 'Houshold Goods']\n",
            "['TAFI', '0.585', '221.9M', '2', 'Houshold Goods']\n",
            "['FCW', '1.020', '254.9M', '6', 'Houshold Goods']\n",
            "['SIGN', '1.270', '819.7M', '0', 'Houshold Goods']\n",
            "['HOMERIZ', '0.580', '268.6M', '5,365', 'Houshold Goods']\n",
            "['TEKSENG', '0.295', '106.3M', '0', 'Houshold Goods']\n",
            "['ENGKAH', '0.380', '44.8M', '0', 'Houshold Goods']\n",
            "['DPIH', '0.175', '127.7M', '1,701', 'Houshold Goods']\n",
            "['BABA', '0.440', '98.8M', '0', 'Houshold Goods']\n",
            "['KANGER', '0.050', '38M', '18,827', 'Houshold Goods']\n",
            "['SEERS', '0.100', '25.7M', '0', 'Houshold Goods']\n",
            "['MPIRE', '0.115', '34.4M', '0', 'Houshold Goods']\n",
            "['SNOWFIT', '0.200', '42.2M', '0', 'Houshold Goods']\n",
            "['WEGMANS', '0.180', '99M', '150', 'Houshold Goods']\n",
            "['NTPM', '0.330', '370.6M', '495', 'Houshold Goods']\n",
            "['PAOS', '0.360', '65.2M', '0', 'Houshold Goods']\n",
            "['POHUAT', '1.360', '378.4M', '2', 'Houshold Goods']\n",
            "['RKI', '1.230', '239.9M', '0', 'Houshold Goods']\n",
            "['JAYCORP', '0.720', '197.6M', '1,030', 'Houshold Goods']\n",
            "['KHIND', '2.650', '111.4M', '0', 'Houshold Goods']\n",
            "['NIHSIN', '0.100', '57.3M', '0.005', '(4.8%)', '222', 'Houshold Goods']\n",
            "['SWSCAP', '0.195', '58.9M', '0.005', '(2.5%)', '265', 'Houshold Goods']\n",
            "['PENSONI', '0.515', '81M', '0.010', '(1.9%)', '92', 'Houshold Goods']\n",
            "['LEESK', '0.505', '127.1M', '0.010', '(1.9%)', '4,632', 'Houshold Goods']\n",
            "['WANGZNG', '0.630', '100.9M', '0.010', '(1.6%)', '1', 'Houshold Goods']\n",
            "['SPRING', '0.215', '89.3M', '0.010', '(4.4%)', '258', 'Houshold Goods']\n",
            "['FIAMMA', '1.120', '593.8M', '0.010', '(0.9%)', '2,518', 'Houshold Goods']\n",
            "['FPI', '2.880', '743.3M', '0.010', '(0.3%)', '1,923', 'Houshold Goods']\n",
            "['SYNERGY', '0.985', '492.5M', '0.015', '(1.5%)', '4,805', 'Houshold Goods']\n",
            "['CAMRES', '0.360', '70.8M', '0.020', '(5.3%)', '1', 'Houshold Goods']\n",
            "['PARAGON', '3.400', '285M', '0.040', '(1.2%)', '107', 'Houshold Goods']\n",
            "['PANAMY', '20.000', '1.2B', '0.060', '(0.3%)', '129', 'Houshold Goods']\n",
            "['IQGROUP', '0.700', '61.6M', '0.080', '(10.3%)', '290', 'Houshold Goods']\n",
            "['YOCB', '1.800', '288M', '0.080', '(4.3%)', '300', 'Houshold Goods']\n",
            "\n",
            "Travel, Leisure & Hospitality  : \n",
            "----------------------------------------\n",
            "['WARISAN', '1.650', '110.8M', '0.050', '(3.1%)', '2,203', 'Travel, Leisure & Hospitality']\n",
            "['MAGNUM', '1.240', '1.7B', '0.010', '(0.8%)', '2,738', 'Travel, Leisure & Hospitality']\n",
            "['CAPITALA', '0.800', '3.4B', '0.010', '(1.3%)', '31,992', 'Travel, Leisure & Hospitality']\n",
            "['BJLAND', '0.325', '1.6B', '0.005', '(1.6%)', '16,601', 'Travel, Leisure & Hospitality']\n",
            "['PARLO', '0.080', '48M', '0.005', '(6.7%)', '500', 'Travel, Leisure & Hospitality']\n",
            "['PTRANS', '0.690', '770.8M', '205', 'Travel, Leisure & Hospitality']\n",
            "['FOCUS', '0.015', '95.5M', '46,433', 'Travel, Leisure & Hospitality']\n",
            "['OVERSEA', '0.055', '125.3M', '34,050', 'Travel, Leisure & Hospitality']\n",
            "['OLYMPIA', '0.070', '71.6M', '203', 'Travel, Leisure & Hospitality']\n",
            "['MBRIGHT', '0.140', '354.3M', '2,492', 'Travel, Leisure & Hospitality']\n",
            "['ASB', '0.100', '252.9M', '4,710', 'Travel, Leisure & Hospitality']\n",
            "['PMCORP', '0.170', '150.3M', '305', 'Travel, Leisure & Hospitality']\n",
            "['AVI', '0.045', '50.9M', '71', 'Travel, Leisure & Hospitality']\n",
            "['ONEGLOVE', '0.200', '105.7M', '210', 'Travel, Leisure & Hospitality']\n",
            "['ICONIC', '0.075', '126.5M', '21,780', 'Travel, Leisure & Hospitality']\n",
            "['MUIIND', '0.090', '290.3M', '2,986', 'Travel, Leisure & Hospitality']\n",
            "['GCE', '0.460', '90.6M', '220', 'Travel, Leisure & Hospitality']\n",
            "['OWG', '0.440', '201.9M', '0.005', '(1.1%)', '260', 'Travel, Leisure & Hospitality']\n",
            "['EPICON', '0.280', '166.5M', '0.005', '(1.8%)', '5,039', 'Travel, Leisure & Hospitality']\n",
            "['LANDMRK', '0.170', '114.1M', '0.005', '(2.9%)', '2,362', 'Travel, Leisure & Hospitality']\n",
            "['GENM', '2.560', '15.2B', '0.010', '(0.4%)', '20,797', 'Travel, Leisure & Hospitality']\n",
            "['RGB', '0.380', '588.3M', '0.010', '(2.6%)', '26,642', 'Travel, Leisure & Hospitality']\n",
            "['SPTOTO', '1.590', '2.1B', '0.010', '(0.6%)', '1,773', 'Travel, Leisure & Hospitality']\n",
            "['MULPHA', '2.460', '765.4M', '0.010', '(0.4%)', '141', 'Travel, Leisure & Hospitality']\n",
            "['AAX', '1.320', '590.1M', '0.010', '(0.8%)', '21,168', 'Travel, Leisure & Hospitality']\n",
            "['PMHLDG', '0.345', '320.4M', '0.015', '(4.2%)', '6,582', 'Travel, Leisure & Hospitality']\n",
            "['BJFOOD', '0.415', '808.2M', '0.025', '(5.7%)', '11,515', 'Travel, Leisure & Hospitality']\n",
            "['GENTING', '4.410', '17B', '0.030', '(0.7%)', '23,446', 'Travel, Leisure & Hospitality']\n",
            "['SHANG', '2.060', '906.4M', '0.080', '(3.7%)', '7,093', 'Travel, Leisure & Hospitality']\n",
            "\n",
            "Personal Goods  : \n",
            "----------------------------------------\n",
            "['TGL', '1.170', '99.2M', '0.010', '(0.9%)', '35', 'Personal Goods']\n",
            "['MAGNI', '2.290', '993.7M', '0.010', '(0.4%)', '442', 'Personal Goods']\n",
            "['PERTAMA', '2.150', '942.1M', '0.010', '(0.5%)', '72,513', 'Personal Goods']\n",
            "['SINARAN', '0.065', '59.4M', '0.005', '(8.3%)', '536', 'Personal Goods']\n",
            "['CLASSITA', '0.040', '49.3M', '0.005', '(14.3%)', '7,885', 'Personal Goods']\n",
            "['BONIA', '1.650', '332.5M', '0', 'Personal Goods']\n",
            "['MARCO', '0.145', '152.8M', '183', 'Personal Goods']\n",
            "['AURORA', '0.220', '137.7M', '0', 'Personal Goods']\n",
            "['G3', '0.030', '113.2M', '1,400', 'Personal Goods']\n",
            "['PRG', '0.125', '57.8M', '2,029', 'Personal Goods']\n",
            "['XDL', '0.025', '52.9M', '0', 'Personal Goods']\n",
            "['TECHBASE', '0.155', '46.5M', '2,204', 'Personal Goods']\n",
            "['RENEUCO', '0.075', '85.6M', '10,929', 'Personal Goods']\n",
            "['ASIABRN', '0.495', '115.1M', '0', 'Personal Goods']\n",
            "['EIG', '0.300', '71.1M', '0', 'Personal Goods']\n",
            "['PCCS', '0.435', '97M', '0.005', '(1.1%)', '187', 'Personal Goods']\n",
            "['NICE', '0.110', '153.1M', '0.005', '(4.3%)', '3,536', 'Personal Goods']\n",
            "['YXPM', '0.270', '100.4M', '0.005', '(1.8%)', '34,044', 'Personal Goods']\n",
            "['INNATURE', '0.215', '151.7M', '0.010', '(4.4%)', '7,384', 'Personal Goods']\n",
            "['CHEETAH', '0.125', '60.7M', '0.010', '(7.4%)', '500', 'Personal Goods']\n",
            "['CRG', '0.320', '257.8M', '0.010', '(3%)', '1,110', 'Personal Goods']\n",
            "['FOCUSP', '0.775', '358M', '0.010', '(1.3%)', '3,122', 'Personal Goods']\n",
            "['OCNCASH', '0.340', '88.6M', '0.015', '(4.2%)', '2,407', 'Personal Goods']\n",
            "['SALUTE', '0.450', '191.9M', '0.015', '(3.2%)', '5,132', 'Personal Goods']\n",
            "['KAREX', '0.820', '863.8M', '0.025', '(3%)', '6,346', 'Personal Goods']\n",
            "['MESB', '0.500', '72.1M', '0.060', '(10.7%)', '15,670', 'Personal Goods']\n",
            "['BAT', '7.860', '2.2B', '0.100', '(1.3%)', '386', 'Personal Goods']\n",
            "\n",
            "Consumer Services  : \n",
            "----------------------------------------\n",
            "['CCIB', '0.350', '139.1M', '0.010', '(2.9%)', '0', 'Consumer Services']\n",
            "['ZHULIAN', '1.210', '556.6M', '0.010', '(0.8%)', '162', 'Consumer Services']\n",
            "['DAY3', '0.325', '156M', '334', 'Consumer Services']\n",
            "['CYBERE', '0.760', '127.6M', '0', 'Consumer Services']\n",
            "['MFGROUP', '0.240', '76.7M', '0', 'Consumer Services']\n",
            "['EMICO', '0.285', '37.4M', '0', 'Consumer Services']\n",
            "['EURO', '0.080', '106.2M', '25,510', 'Consumer Services']\n",
            "['AHB', '0.040', '29.7M', '3,796', 'Consumer Services']\n",
            "['ASIAFLE', '2.000', '391.5M', '1,227', 'Consumer Services']\n",
            "['SUPREME', '0.625', '80.4M', '0', 'Consumer Services']\n",
            "['XOXNET', '0.025', '28.3M', '0', 'Consumer Services']\n",
            "['ENEST', '0.140', '65.1M', '0', 'Consumer Services']\n",
            "['SCC', '0.280', '39.5M', '0', 'Consumer Services']\n",
            "['MPSOL', '0.100', '22.2M', '0', 'Consumer Services']\n",
            "['PBSB', '0.200', '121.6M', '70', 'Consumer Services']\n",
            "['KTC', '0.215', '146.5M', '2,063', 'Consumer Services']\n",
            "['SEG', '0.620', '784.7M', '7,720', 'Consumer Services']\n",
            "['ETH', '0.180', '53M', '0', 'Consumer Services']\n",
            "['UPA', '0.725', '173M', '0', 'Consumer Services']\n",
            "['XL', '0.785', '244.4M', '81,642', 'Consumer Services']\n",
            "['JADI', '0.035', '48.9M', '0.005', '(12.5%)', '1,000', 'Consumer Services']\n",
            "['CNH', '0.050', '36M', '0.005', '(9.1%)', '1,000', 'Consumer Services']\n",
            "['MBN', '0.135', '52.1M', '0.005', '(3.6%)', '2,200', 'Consumer Services']\n",
            "['CWG', '0.265', '43.4M', '0.010', '(3.6%)', '1,978', 'Consumer Services']\n",
            "['DKSH', '5.030', '793M', '0.020', '(0.4%)', '117', 'Consumer Services']\n",
            "\n"
          ]
        }
      ]
    }
  ]
}