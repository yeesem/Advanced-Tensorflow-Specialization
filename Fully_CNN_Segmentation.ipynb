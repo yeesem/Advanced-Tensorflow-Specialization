{
  "nbformat": 4,
  "nbformat_minor": 0,
  "metadata": {
    "colab": {
      "provenance": [],
      "authorship_tag": "ABX9TyOBwty/iL9v8dBSrQG/faRo",
      "include_colab_link": true
    },
    "kernelspec": {
      "name": "python3",
      "display_name": "Python 3"
    },
    "language_info": {
      "name": "python"
    }
  },
  "cells": [
    {
      "cell_type": "markdown",
      "metadata": {
        "id": "view-in-github",
        "colab_type": "text"
      },
      "source": [
        "<a href=\"https://colab.research.google.com/github/yeesem/Advanced-Tensorflow-Specialization/blob/main/Fully_CNN_Segmentation.ipynb\" target=\"_parent\"><img src=\"https://colab.research.google.com/assets/colab-badge.svg\" alt=\"Open In Colab\"/></a>"
      ]
    },
    {
      "cell_type": "markdown",
      "source": [
        "# Imports"
      ],
      "metadata": {
        "id": "LhSWew9J61ik"
      }
    },
    {
      "cell_type": "code",
      "execution_count": 20,
      "metadata": {
        "id": "0wWUgOI95oBo"
      },
      "outputs": [],
      "source": [
        "import os\n",
        "import zipfile\n",
        "import PIL.Image,PIL.ImageFont,PIL.ImageDraw\n",
        "import numpy as np\n",
        "\n",
        "import tensorflow as tf\n",
        "from matplotlib import pyplot as plt\n",
        "import tensorflow_datasets as tfds\n",
        "import seaborn as sns"
      ]
    },
    {
      "cell_type": "markdown",
      "source": [
        "# Download the Dataset"
      ],
      "metadata": {
        "id": "zqA1BReb6x_P"
      }
    },
    {
      "cell_type": "code",
      "source": [
        "# download the dataset (zipped file)\n",
        "!wget https://storage.googleapis.com/learning-datasets/fcnn-dataset.zip  -O /tmp/fcnn-dataset.zip"
      ],
      "metadata": {
        "colab": {
          "base_uri": "https://localhost:8080/"
        },
        "id": "rut1oF-L6m73",
        "outputId": "7b5c4aee-f14c-459f-e3e8-7113bd12e45e"
      },
      "execution_count": 21,
      "outputs": [
        {
          "output_type": "stream",
          "name": "stdout",
          "text": [
            "--2024-06-11 11:47:42--  https://storage.googleapis.com/learning-datasets/fcnn-dataset.zip\n",
            "Resolving storage.googleapis.com (storage.googleapis.com)... 142.251.8.207, 142.251.170.207, 173.194.174.207, ...\n",
            "Connecting to storage.googleapis.com (storage.googleapis.com)|142.251.8.207|:443... connected.\n",
            "HTTP request sent, awaiting response... 200 OK\n",
            "Length: 125577577 (120M) [application/zip]\n",
            "Saving to: ‘/tmp/fcnn-dataset.zip’\n",
            "\n",
            "/tmp/fcnn-dataset.z 100%[===================>] 119.76M  29.5MB/s    in 4.9s    \n",
            "\n",
            "2024-06-11 11:47:47 (24.4 MB/s) - ‘/tmp/fcnn-dataset.zip’ saved [125577577/125577577]\n",
            "\n"
          ]
        }
      ]
    },
    {
      "cell_type": "code",
      "source": [
        "local_zip = '/tmp/fcnn-dataset.zip'\n",
        "zip_ref = zipfile.ZipFile(local_zip,'r')\n",
        "zip_ref.extractall('/tmp/fcnn')\n",
        "zip_ref.close()"
      ],
      "metadata": {
        "id": "_YN7kYLe7HNp"
      },
      "execution_count": 22,
      "outputs": []
    },
    {
      "cell_type": "code",
      "source": [
        "# pixel labels in the video frames\n",
        "class_names = ['sky', 'building','column/pole', 'road', 'side walk', 'vegetation', 'traffic light', 'fence', 'vehicle', 'pedestrian', 'byciclist', 'void']"
      ],
      "metadata": {
        "id": "6Mdh4juF7dF-"
      },
      "execution_count": 23,
      "outputs": []
    },
    {
      "cell_type": "markdown",
      "source": [
        "# Load and Prepare the Dataset"
      ],
      "metadata": {
        "id": "3xmgChxI7wny"
      }
    },
    {
      "cell_type": "code",
      "source": [
        "def map_filename_to_image_and_mask(t_filename,a_filename,height = 224,width = 224):\n",
        "  # Convert image and mask files to tensor\n",
        "  img_raw = tf.io.read_file(t_filename)\n",
        "  anno_raw = tf.io.read_file(a_filename)\n",
        "  image = tf.image.decode_png(img_raw)\n",
        "  annotation = tf.image.decode_png(anno_raw)\n",
        "\n",
        "  # Resize image and segmentation mask\n",
        "  image = tf.image.resize(image,(height,width,))\n",
        "  annotation = tf.image.resize(annotation,(height,width,))\n",
        "  image = tf.reshape(image,(height,width,3,))\n",
        "  annotation = tf.cast(annotation,dtype = tf.int32)\n",
        "  annotation = tf.reshape(annotation,(height,width,1,))\n",
        "  stack_list = []\n",
        "\n",
        "  # Reshape segmentation masks\n",
        "  for c in range(len(class_names)):\n",
        "    # mask = tf.equal(annotation[:,:,0], tf.constant(c)) is creating a binary mask where each element\n",
        "    # in the mask is True if the corresponding element in annotation[:,:,0] is equal to the class c,\n",
        "    # and False otherwise.\n",
        "    # tf.equal(annotation[:,:,0], tf.constant(c)): This function compares each element in the 2D array\n",
        "    # annotation[:,:,0] with the constant c. It returns a new 2D tensor of the same shape where each element\n",
        "    # is True if the corresponding element in annotation[:,:,0] is equal to c, and False otherwise.\n",
        "    mask = tf.equal(annotation[:,:,0],tf.constant(c))\n",
        "    stack_list.append(tf.cast(mask,dtype = tf.int32))\n",
        "\n",
        "  annotation = tf.stack(stack_list,axis = 2)\n",
        "\n",
        "  # Normalize pixels in the input image\n",
        "  image = image / 127.5\n",
        "  # shift pixel value\n",
        "  # This line shifts the scaled pixel values to the range [-1, 1].\n",
        "  image -= 1\n",
        "\n",
        "  return image,annotation"
      ],
      "metadata": {
        "id": "PHKcjRWn7vmh"
      },
      "execution_count": 24,
      "outputs": []
    },
    {
      "cell_type": "code",
      "source": [
        "# show folders inside the dataset you downloaded\n",
        "!ls /tmp/fcnn/dataset1"
      ],
      "metadata": {
        "colab": {
          "base_uri": "https://localhost:8080/"
        },
        "id": "a3-Q5oB9Cl_H",
        "outputId": "806a87eb-21fa-412e-ba86-a2eb0ff4bc4d"
      },
      "execution_count": 25,
      "outputs": [
        {
          "output_type": "stream",
          "name": "stdout",
          "text": [
            "annotations_prepped_test  annotations_prepped_train  images_prepped_test  images_prepped_train\n"
          ]
        }
      ]
    },
    {
      "cell_type": "code",
      "source": [
        "BATCH_SIZE = 64\n",
        "\n",
        "def get_dataset_slice_paths(image_dir,label_map_dir):\n",
        "  image_file_list = os.listdir(image_dir)\n",
        "  label_map_file_list = os.listdir(label_map_dir)\n",
        "  image_paths = [os.path.join(image_dir,fname) for fname in image_file_list]\n",
        "  label_map_paths = [os.path.join(label_map_dir,fname) for fname in label_map_file_list]\n",
        "\n",
        "  return image_paths,label_map_paths\n",
        "\n",
        "def get_training_dataset(image_paths,label_map_paths):\n",
        "  training_dataset = tf.data.Dataset.from_tensor_slices((image_paths,label_map_paths))\n",
        "  training_dataset = training_dataset.map(map_filename_to_image_and_mask)\n",
        "  training_dataset = training_dataset.shuffle(100,reshuffle_each_iteration = True)\n",
        "  training_dataset = training_dataset.batch(BATCH_SIZE)\n",
        "  # repeat(): This method makes the dataset repeat indefinitely. This is useful for training loops\n",
        "  # where you want the dataset to be available continuously without needing to be re-initialized.\n",
        "  training_dataset = training_dataset.repeat()\n",
        "  # repeat(): This method makes the dataset repeat indefinitely. This is useful for training loops where you want the\n",
        "  # dataset to be available continuously without needing to be re-initialized.\n",
        "  training_dataset = training_dataset.prefetch(-1)\n",
        "\n",
        "  return training_dataset\n",
        "\n",
        "def get_validation_dataset(image_paths,label_map_paths):\n",
        "  validation_dataset = tf.data.Dataset.from_tensor_slices((image_paths,label_map_paths))\n",
        "  validation_dataset = validation_dataset.map(map_filename_to_image_and_mask)\n",
        "  validation_dataset = validation_dataset.batch(BATCH_SIZE)\n",
        "  validation_dataset = validation_dataset.repeat()\n",
        "\n",
        "  return validation_dataset"
      ],
      "metadata": {
        "id": "tMgkDw9oCmVR"
      },
      "execution_count": 26,
      "outputs": []
    },
    {
      "cell_type": "markdown",
      "source": [
        "# Dataset Visualization"
      ],
      "metadata": {
        "id": "62zNGcrjIlSv"
      }
    },
    {
      "cell_type": "code",
      "source": [
        "# get the paths to the images\n",
        "training_image_paths, training_label_map_paths = get_dataset_slice_paths('/tmp/fcnn/dataset1/images_prepped_train/','/tmp/fcnn/dataset1/annotations_prepped_train/')\n",
        "validation_image_paths, validation_label_map_paths = get_dataset_slice_paths('/tmp/fcnn/dataset1/images_prepped_test/','/tmp/fcnn/dataset1/annotations_prepped_test/')\n",
        "\n",
        "# Generate the train and val set\n",
        "training_dataset = get_training_dataset(training_image_paths,training_label_map_paths)\n",
        "validation_dataset = get_validation_dataset(validation_image_paths,validation_label_map_paths)"
      ],
      "metadata": {
        "id": "XCDy963MGfqN"
      },
      "execution_count": 28,
      "outputs": []
    },
    {
      "cell_type": "code",
      "source": [
        "# Generate a list that contains one color for each class\n",
        "colors = sns.color_palette(None,len(class_names))\n",
        "\n",
        "# print class name - normalized RGB tuple pairs\n",
        "# the tuple values will be multiplied by 255 in the helper functions later\n",
        "# to convert to the (0,0,0) to (255,255,255) RGB values you might be familiar with\n",
        "for class_name,color in zip(class_names,colors):\n",
        "  print(f\"P{class_name} -- {color}\")"
      ],
      "metadata": {
        "colab": {
          "base_uri": "https://localhost:8080/"
        },
        "id": "YPuKHg0hIHjK",
        "outputId": "d8a05228-1791-4c32-eabb-4a9d0b20245d"
      },
      "execution_count": 29,
      "outputs": [
        {
          "output_type": "stream",
          "name": "stdout",
          "text": [
            "Psky -- (0.12156862745098039, 0.4666666666666667, 0.7058823529411765)\n",
            "Pbuilding -- (1.0, 0.4980392156862745, 0.054901960784313725)\n",
            "Pcolumn/pole -- (0.17254901960784313, 0.6274509803921569, 0.17254901960784313)\n",
            "Proad -- (0.8392156862745098, 0.15294117647058825, 0.1568627450980392)\n",
            "Pside walk -- (0.5803921568627451, 0.403921568627451, 0.7411764705882353)\n",
            "Pvegetation -- (0.5490196078431373, 0.33725490196078434, 0.29411764705882354)\n",
            "Ptraffic light -- (0.8901960784313725, 0.4666666666666667, 0.7607843137254902)\n",
            "Pfence -- (0.4980392156862745, 0.4980392156862745, 0.4980392156862745)\n",
            "Pvehicle -- (0.7372549019607844, 0.7411764705882353, 0.13333333333333333)\n",
            "Ppedestrian -- (0.09019607843137255, 0.7450980392156863, 0.8117647058823529)\n",
            "Pbyciclist -- (0.12156862745098039, 0.4666666666666667, 0.7058823529411765)\n",
            "Pvoid -- (1.0, 0.4980392156862745, 0.054901960784313725)\n"
          ]
        }
      ]
    },
    {
      "cell_type": "code",
      "source": [],
      "metadata": {
        "id": "htjbvJQcIiWG"
      },
      "execution_count": null,
      "outputs": []
    }
  ]
}