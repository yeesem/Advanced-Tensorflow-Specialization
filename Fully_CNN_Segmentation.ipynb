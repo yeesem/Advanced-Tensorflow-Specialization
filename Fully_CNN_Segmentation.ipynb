{
  "nbformat": 4,
  "nbformat_minor": 0,
  "metadata": {
    "colab": {
      "provenance": [],
      "authorship_tag": "ABX9TyNDHNPYNW4M0WgDlFO68R20",
      "include_colab_link": true
    },
    "kernelspec": {
      "name": "python3",
      "display_name": "Python 3"
    },
    "language_info": {
      "name": "python"
    }
  },
  "cells": [
    {
      "cell_type": "markdown",
      "metadata": {
        "id": "view-in-github",
        "colab_type": "text"
      },
      "source": [
        "<a href=\"https://colab.research.google.com/github/yeesem/Advanced-Tensorflow-Specialization/blob/main/Fully_CNN_Segmentation.ipynb\" target=\"_parent\"><img src=\"https://colab.research.google.com/assets/colab-badge.svg\" alt=\"Open In Colab\"/></a>"
      ]
    },
    {
      "cell_type": "markdown",
      "source": [
        "# Imports"
      ],
      "metadata": {
        "id": "LhSWew9J61ik"
      }
    },
    {
      "cell_type": "code",
      "execution_count": 1,
      "metadata": {
        "id": "0wWUgOI95oBo"
      },
      "outputs": [],
      "source": [
        "import os\n",
        "import zipfile\n",
        "import PIL.Image,PIL.ImageFont,PIL.ImageDraw\n",
        "import numpy as np\n",
        "\n",
        "import tensorflow as tf\n",
        "from matplotlib import pyplot as plt\n",
        "import tensorflow_datasets as tfds\n",
        "import seaborn as sns"
      ]
    },
    {
      "cell_type": "markdown",
      "source": [
        "# Download the Dataset"
      ],
      "metadata": {
        "id": "zqA1BReb6x_P"
      }
    },
    {
      "cell_type": "code",
      "source": [
        "# download the dataset (zipped file)\n",
        "!wget https://storage.googleapis.com/learning-datasets/fcnn-dataset.zip  -O /tmp/fcnn-dataset.zip"
      ],
      "metadata": {
        "colab": {
          "base_uri": "https://localhost:8080/"
        },
        "id": "rut1oF-L6m73",
        "outputId": "18e024de-2cb8-46e0-e690-83f8adf1cda4"
      },
      "execution_count": 2,
      "outputs": [
        {
          "output_type": "stream",
          "name": "stdout",
          "text": [
            "--2024-06-11 10:51:19--  https://storage.googleapis.com/learning-datasets/fcnn-dataset.zip\n",
            "Resolving storage.googleapis.com (storage.googleapis.com)... 108.177.97.207, 142.250.157.207, 142.251.8.207, ...\n",
            "Connecting to storage.googleapis.com (storage.googleapis.com)|108.177.97.207|:443... connected.\n",
            "HTTP request sent, awaiting response... 200 OK\n",
            "Length: 125577577 (120M) [application/zip]\n",
            "Saving to: ‘/tmp/fcnn-dataset.zip’\n",
            "\n",
            "/tmp/fcnn-dataset.z 100%[===================>] 119.76M  16.1MB/s    in 8.5s    \n",
            "\n",
            "2024-06-11 10:51:27 (14.1 MB/s) - ‘/tmp/fcnn-dataset.zip’ saved [125577577/125577577]\n",
            "\n"
          ]
        }
      ]
    },
    {
      "cell_type": "code",
      "source": [
        "local_zip = '/tmp/fcnn-dataset.zip'\n",
        "zip_ref = zipfile.ZipFile(local_zip,'r')\n",
        "zip_ref.extractall('/tmp')\n",
        "zip_ref.close()"
      ],
      "metadata": {
        "id": "_YN7kYLe7HNp"
      },
      "execution_count": 3,
      "outputs": []
    },
    {
      "cell_type": "code",
      "source": [
        "# pixel labels in the video frames\n",
        "class_names = ['sky', 'building','column/pole', 'road', 'side walk', 'vegetation', 'traffic light', 'fence', 'vehicle', 'pedestrian', 'byciclist', 'void']"
      ],
      "metadata": {
        "id": "6Mdh4juF7dF-"
      },
      "execution_count": 4,
      "outputs": []
    },
    {
      "cell_type": "markdown",
      "source": [
        "# Load and Prepare the Dataset"
      ],
      "metadata": {
        "id": "3xmgChxI7wny"
      }
    },
    {
      "cell_type": "code",
      "source": [
        "def map_filename_to_image_and_mask(t_filename,a_filename,height = 224,width = 224):\n",
        "  # Convert image and mask files to tensor\n",
        "  img_raw = tf.io.read_file(t_filename)\n",
        "  anno_raw = tf.io.read_file(a_filename)\n",
        "  image = tf.image.decode_png(img_raw)\n",
        "  annotation = tf.image.decode_png(anno_raw)\n",
        "\n",
        "  # Resize image and segmentation mask\n",
        "  image = tf.image.resize(image,(height,width,))\n",
        "  annotation = tf.image.resize(annotation,(height,width,))\n",
        "  image = tf.reshape(image,(height,width,3,))\n",
        "  annotation = tf.cast(annotation,dtype = tf.int32)\n",
        "  annotation = tf.reshape(annotation,(height,width,1,))\n",
        "  stack_list = []\n",
        "\n",
        "  # Reshape segmentation masks\n",
        "  for c in range(len(class_names)):\n",
        "    # mask = tf.equal(annotation[:,:,0], tf.constant(c)) is creating a binary mask where each element\n",
        "    # in the mask is True if the corresponding element in annotation[:,:,0] is equal to the class c,\n",
        "    # and False otherwise.\n",
        "    # tf.equal(annotation[:,:,0], tf.constant(c)): This function compares each element in the 2D array\n",
        "    # annotation[:,:,0] with the constant c. It returns a new 2D tensor of the same shape where each element\n",
        "    # is True if the corresponding element in annotation[:,:,0] is equal to c, and False otherwise.\n",
        "    mask = tf.equal(annotation[:,:,0],tf.constant(c))\n",
        "    stack_list.append(tf.cast(mask,dtype = tf.int32))\n",
        "\n",
        "  annotation = tf.stack(stack_list,axis = 2)\n",
        "\n",
        "  # Normalize pixels in the input image\n",
        "  image = image / 127.5\n",
        "  # shift pixel value\n",
        "  # This line shifts the scaled pixel values to the range [-1, 1].\n",
        "  image -= 1\n",
        "\n",
        "  return image,annotation"
      ],
      "metadata": {
        "id": "PHKcjRWn7vmh"
      },
      "execution_count": 5,
      "outputs": []
    },
    {
      "cell_type": "code",
      "source": [
        "# show folders inside the dataset you downloaded\n",
        "!ls /tmp/fcnn/dataset1"
      ],
      "metadata": {
        "colab": {
          "base_uri": "https://localhost:8080/"
        },
        "id": "a3-Q5oB9Cl_H",
        "outputId": "bb1e4d20-a3be-45db-c9db-60b2e603e92d"
      },
      "execution_count": 6,
      "outputs": [
        {
          "output_type": "stream",
          "name": "stdout",
          "text": [
            "ls: cannot access '/tmp/fcnn/dataset1': No such file or directory\n"
          ]
        }
      ]
    },
    {
      "cell_type": "code",
      "source": [],
      "metadata": {
        "id": "tMgkDw9oCmVR"
      },
      "execution_count": null,
      "outputs": []
    }
  ]
}