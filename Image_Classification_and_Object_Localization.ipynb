{
  "nbformat": 4,
  "nbformat_minor": 0,
  "metadata": {
    "colab": {
      "provenance": [],
      "authorship_tag": "ABX9TyM32VvFfQ8/lyeFP+en9dUr",
      "include_colab_link": true
    },
    "kernelspec": {
      "name": "python3",
      "display_name": "Python 3"
    },
    "language_info": {
      "name": "python"
    },
    "accelerator": "TPU"
  },
  "cells": [
    {
      "cell_type": "markdown",
      "metadata": {
        "id": "view-in-github",
        "colab_type": "text"
      },
      "source": [
        "<a href=\"https://colab.research.google.com/github/yeesem/Advanced-Tensorflow-Specialization/blob/main/Image_Classification_and_Object_Localization.ipynb\" target=\"_parent\"><img src=\"https://colab.research.google.com/assets/colab-badge.svg\" alt=\"Open In Colab\"/></a>"
      ]
    },
    {
      "cell_type": "markdown",
      "source": [
        "# Imports"
      ],
      "metadata": {
        "id": "WgiJvBsSJxa5"
      }
    },
    {
      "cell_type": "code",
      "execution_count": 29,
      "metadata": {
        "id": "vknIW68MJJLs"
      },
      "outputs": [],
      "source": [
        "import os,re,time,json\n",
        "import PIL.Image,PIL.ImageFont,PIL.ImageDraw\n",
        "import numpy as np\n",
        "\n",
        "import tensorflow as tf\n",
        "from matplotlib import pyplot as plt\n",
        "import tensorflow_datasets as tfds"
      ]
    },
    {
      "cell_type": "markdown",
      "source": [
        "# Visualization Utilities"
      ],
      "metadata": {
        "id": "8H3DO9R3J1vn"
      }
    },
    {
      "cell_type": "code",
      "source": [
        "im_width = 75\n",
        "im_height = 75\n",
        "use_normalized_coordinates = True\n",
        "\n",
        "def draw_bounding_boxes_on_image_array(\n",
        "    image,\n",
        "    boxes,\n",
        "    color = [],\n",
        "    thickness = 1,\n",
        "    display_str_list = ()\n",
        "):\n",
        "  # The input image, which is a NumPy array, is converted into a PIL\n",
        "  # (Python Imaging Library) image object using PIL.Image.fromarray.\n",
        "  image_pil = PIL.Image.fromarray(image)\n",
        "  # A new RGBA image is created with the same size as the original image.\n",
        "  # The \"RGBA\" mode means that the new image will have Red, Green, Blue, and\n",
        "  # Alpha (transparency) channels.\n",
        "  rgbimg = PIL.Image.new(\"RGBA\",image_pil.size)\n",
        "  # Paste the Original Image onto the RGBA Image:\n",
        "  rgbimg.paste(image_pil)\n",
        "  draw_bounding_boxes_on_image(rgbimg,boxes,color,thickness,\n",
        "                               display_str_list)\n",
        "  return np.array(rgbimg)\n",
        "\n",
        "def draw_bounding_boxes_on_image(\n",
        "    image,\n",
        "    boxes,\n",
        "    color = [],\n",
        "    thickness = 1,\n",
        "    display_str_list = ()\n",
        "):\n",
        "  boxes_shape = boxes.shape\n",
        "  if not boxes_shape:\n",
        "    return\n",
        "  if len(boxes_shape)!=2 or boxes_shape[1] != 4:\n",
        "    raise ValueError(\"Input must be of size [N,4]\")\n",
        "  for i in range(boxes_shape[0]):\n",
        "    draw_bounding_box_on_image(image,boxes[i,1],boxes[i,0],boxes[i,3],\n",
        "                               boxes[i,2],color[i],thickness,display_str_list[i])\n",
        "\n",
        "def draw_bounding_box_on_image(\n",
        "    image,\n",
        "    ymin,\n",
        "    xmin,\n",
        "    ymax,\n",
        "    xmax,\n",
        "    color = 'red',\n",
        "    thickness = 1,\n",
        "    display_str = None,\n",
        "    use_normalized_coordinates = True\n",
        "):\n",
        "  draw = PIL.ImageDraw.Draw(image)\n",
        "  im_width,im_height = image.size\n",
        "  if use_normalized_coordinates:\n",
        "    (left,right,top,bottom) = (xmin * im_width,xmax * im_width,\n",
        "                               ymin* im_height,ymax * im_height)\n",
        "  else:\n",
        "    (left,right,top,bottom) = (xmin,xmax,ymin,ymax)\n",
        "\n",
        "  draw.line([(left,top),(left,bottom),(right,bottom),\n",
        "             (right,top),(left,top)],width = thickness,fill = color)\n"
      ],
      "metadata": {
        "id": "5dzf3IX0Jpm0"
      },
      "execution_count": 30,
      "outputs": []
    },
    {
      "cell_type": "code",
      "source": [
        "plt.rc('image',cmap='gray')\n",
        "plt.rc('grid',linewidth = 0)\n",
        "plt.rc('xtick',top = False,bottom = False,labelsize = 'large')\n",
        "plt.rc('ytick',left = False,right = False,labelsize = 'large')\n",
        "plt.rc('axes',facecolor = 'F8F8F8',titlesize = 'large',edgecolor = 'white')\n",
        "plt.rc('text',color = 'a8151a')\n",
        "plt.rc('figure', facecolor='F0F0F0')# Matplotlib fonts\n",
        "MATPLOTLIB_FONT_DIR = os.path.join(os.path.dirname(plt.__file__), \"mpl-data/fonts/ttf\")\n",
        "\n",
        "def dataset_to_numpy_util(training_dataset,validation_dataset,N):\n",
        "\n",
        "  # get one batch from each: 10000 validation digits, N training digits\n",
        "  batch_train_ds = training_dataset.unbatch().batch(N)\n",
        "\n",
        "  # Eager execution : Loop through datasets normally\n",
        "  if tf.executing_eagerly():\n",
        "    for validation_digits, (validation_labels,validation_bboxes) in validation_dataset:\n",
        "      validation_digits = validation_digits.numpy()\n",
        "      validation_labels = validation_labels.numpy()\n",
        "      validation_bboxes = validation_bboxes.numpy()\n",
        "      break\n",
        "    for training_digits, (training_labels,training_bboxes) in batch_train_ds:\n",
        "      training_digits = training_digits.numpy()\n",
        "      training_labels = training_labels.numpy()\n",
        "      training_bboxes = training_bboxes.numpy()\n",
        "      break\n",
        "\n",
        "    # these were one-hot encoded in the dataset\n",
        "    validation_labels = np.argmax(validation_labels,axis = 1)\n",
        "    training_labels = np.argmax(training_labels,axis = 1)\n",
        "\n",
        "    return (training_digits, training_labels, training_bboxes,\n",
        "          validation_digits, validation_labels, validation_bboxes)\n",
        "\n",
        "def create_digits_from_local_fonts(n):\n",
        "  font_labels = []\n",
        "  img = PIL.Image.new('LA', (75*n, 75), color = (0,255)) # format 'LA': black in channel 0, alpha in channel 1\n",
        "  font1 = PIL.ImageFont.truetype(os.path.join(MATPLOTLIB_FONT_DIR, 'DejaVuSansMono-Oblique.ttf'), 25)\n",
        "  font2 = PIL.ImageFont.truetype(os.path.join(MATPLOTLIB_FONT_DIR, 'STIXGeneral.ttf'), 25)\n",
        "  d = PIL.ImageDraw.Draw(img)\n",
        "  for i in range(n):\n",
        "    font_labels.append(i%10)\n",
        "    d.text((7+i*75,0 if i<10 else -4), str(i%10), fill=(255,255), font=font1 if i<10 else font2)\n",
        "  font_digits = np.array(img.getdata(), np.float32)[:,0] / 255.0 # black in channel 0, alpha in channel 1 (discarded)\n",
        "  font_digits = np.reshape(np.stack(np.split(np.reshape(font_digits, [75, 75*n]), n, axis=1), axis=0), [n, 75*75])\n",
        "  return font_digits, font_labels\n",
        "\n",
        "def display_digits_with_boxes(digits, predictions, labels, pred_bboxes, bboxes, iou, title):\n",
        "  n = 10\n",
        "\n",
        "  indexes = np.random.choice(len(predictions),size = n)\n",
        "  n_digits = digits[indexes]\n",
        "  n_predictions = predictions[indexes]\n",
        "  n_labels = labels[indexes]\n",
        "\n",
        "  n_iou = []\n",
        "  if len(iou) > 0:\n",
        "    n_iou = iou[indexes]\n",
        "\n",
        "  if (len(pred_bboxes) > 0):\n",
        "    n_pred_bboxes = pred_bboxes[indexes,:]\n",
        "\n",
        "  if (len(bboxes) > 0):\n",
        "    n_bboxes = bboxes[indexes,:]\n",
        "\n",
        "  n_digits = n_digits * 255.0\n",
        "  n_digits = n_digits.reshape(n, 75, 75)\n",
        "  fig = plt.figure(figsize=(20, 4))\n",
        "  plt.title(title)\n",
        "  plt.yticks([])\n",
        "  plt.xticks([])\n",
        "\n",
        "  for i in range(10):\n",
        "      ax = fig.add_subplot(1, 10, i+1)\n",
        "      bboxes_to_plot = []\n",
        "      if (len(pred_bboxes) > i):\n",
        "        bboxes_to_plot.append(n_pred_bboxes[i])\n",
        "\n",
        "      if (len(bboxes) > i):\n",
        "        bboxes_to_plot.append(n_bboxes[i])\n",
        "\n",
        "      img_to_draw = draw_bounding_boxes_on_image_array(image=n_digits[i], boxes=np.asarray(bboxes_to_plot), color=['red', 'green'], display_str_list=[\"true\", \"pred\"])\n",
        "      plt.xlabel(n_predictions[i])\n",
        "      plt.xticks([])\n",
        "      plt.yticks([])\n",
        "\n",
        "      if n_predictions[i] != n_labels[i]:\n",
        "        ax.xaxis.label.set_color('red')\n",
        "\n",
        "      plt.imshow(img_to_draw)\n",
        "\n",
        "      if len(iou) > i :\n",
        "        color = \"black\"\n",
        "        if (n_iou[i][0] < iou_threshold):\n",
        "          color = \"red\"\n",
        "        ax.text(0.2, -0.3, \"iou: %s\" %(n_iou[i][0]), color=color, transform=ax.transAxes)\n",
        "\n",
        "\n",
        "# utility to display training and validation curves\n",
        "def plot_metrics(metric_name, title, ylim=5):\n",
        "  plt.title(title)\n",
        "  plt.ylim(0,ylim)\n",
        "  plt.plot(history.history[metric_name],color='blue',label=metric_name)\n",
        "  plt.plot(history.history['val_' + metric_name],color='green',label='val_' + metric_name)\n"
      ],
      "metadata": {
        "id": "2yZmLTd8Qq_c"
      },
      "execution_count": 31,
      "outputs": []
    },
    {
      "cell_type": "markdown",
      "source": [
        "# Selecting TPU or GPU Strategies"
      ],
      "metadata": {
        "id": "i9nomIGUkMKi"
      }
    },
    {
      "cell_type": "code",
      "source": [
        "# Detect hardware\n",
        "try:\n",
        "  # TPU Detector\n",
        "  tpu = tf.distribute.cluster_resolver.TPUClusterResolver()\n",
        "except ValueError:\n",
        "  tpu = None\n",
        "  gpus = tf.config.experimental.list_logical_devices(\"GPU\")\n",
        "\n",
        "# Select appropriate distribution strategy\n",
        "if tpu:\n",
        "  tf.config.experimental_connect_to_cluster(tpu)\n",
        "  tf.tpu.experimental.initialize_tpu_system(tpu)\n",
        "  strategy = tf.distribute.experimental.TPUStrategy(tpu)\n",
        "  print(\"Running on TPU \",tpu.cluster_spec().as_dict()['worker'])\n",
        "elif len(gpus) > 1:\n",
        "  strategy = tf.distribute.MirroredStrategy([gpu.name for gpu in gpus])\n",
        "  print(\"Running on multiple GPUs \",[gpu.name for gpu in gpus])\n",
        "elif len(gpus) == 1:\n",
        "  strategy = tf.distribute.get_strategy()\n",
        "  print(\"Running on single GPU \",gpus[0].name)\n",
        "else:\n",
        "  # Default strategy that works on CPU and single GPU\n",
        "  strategy = tf.distribute.get_strategy()\n",
        "  print(\"Running on CPU\")\n",
        "print(\"Number of accelerators: \",strategy.num_replicas_in_sync)"
      ],
      "metadata": {
        "colab": {
          "base_uri": "https://localhost:8080/"
        },
        "id": "-397g8nvkQzr",
        "outputId": "79b9ba8b-d591-4cb0-ebd2-9ee87bceb1e2"
      },
      "execution_count": 32,
      "outputs": [
        {
          "output_type": "stream",
          "name": "stdout",
          "text": [
            "Running on CPU\n",
            "Number of accelerators:  1\n"
          ]
        }
      ]
    },
    {
      "cell_type": "markdown",
      "source": [
        "# Parameters"
      ],
      "metadata": {
        "id": "Rd3oHAJ-l_fT"
      }
    },
    {
      "cell_type": "code",
      "source": [
        "BATCH_SIZE = 64 * strategy.num_replicas_in_sync"
      ],
      "metadata": {
        "id": "J9F92Yunl4ht"
      },
      "execution_count": 33,
      "outputs": []
    },
    {
      "cell_type": "markdown",
      "source": [
        "# Loading and Preprocessing the Dataset"
      ],
      "metadata": {
        "id": "YR0XPnCimVMC"
      }
    },
    {
      "cell_type": "code",
      "source": [
        "def read_image_tfds(image,label):\n",
        "  xmin = tf.random.uniform((), 0 , 48, dtype=tf.int32)\n",
        "  ymin = tf.random.uniform((), 0 , 48, dtype=tf.int32)\n",
        "  image = tf.reshape(image, (28,28,1,))\n",
        "\n",
        "  image = tf.image.pad_to_bounding_box(image, ymin, xmin, 75, 75)\n",
        "  image = tf.cast(image, tf.float32)/255.0\n",
        "  xmin = tf.cast(xmin, tf.float32)\n",
        "  ymin = tf.cast(ymin, tf.float32)\n",
        "\n",
        "  xmax = (xmin + 28) / 75\n",
        "  ymax = (ymin + 28) / 75\n",
        "  xmin = xmin / 75\n",
        "  ymin = ymin / 75\n",
        "  return image, (tf.one_hot(label, 10), [xmin, ymin, xmax, ymax])\n",
        "\n",
        "def get_training_dataset():\n",
        "  with strategy.scope():\n",
        "    # When as_supervised is set to True, the dataset is returned as a tuple of (input, label)\n",
        "    # When try_gcs is set to True, TensorFlow Datasets will first attempt to load the dataset\n",
        "    # from GCS. This can be faster and more efficient, especially when working in environments like\n",
        "    # Google Cloud or Colab, as it might reduce download time and latency.\n",
        "    dataset = tfds.load('mnist',split = 'train',as_supervised=True, try_gcs=True)\n",
        "    # Utilizes parallel processing with 16 parallel calls to improve the efficiency of the mapping operation\n",
        "    dataset = dataset.map(read_image_tfds,num_parallel_calls = 16)\n",
        "    # When set to True, the dataset is reshuffled for each iteration. This ensures that each epoch (complete pass\n",
        "    # through the dataset) uses a different order of elements, further improving the model's robustness.\n",
        "    dataset = dataset.shuffle(5000,reshuffle_each_iteration = True)\n",
        "    dataset = dataset.repeat()\n",
        "    # drop_remainder=True: When set to True, any leftover elements that do not fit into a full batch are dropped.\n",
        "    dataset = dataset.batch(BATCH_SIZE,drop_remainder = True)\n",
        "    # prefetch(-1): This method allows the data to be preloaded in the background while the model is training,\n",
        "    # which can significantly improve the training throughput\n",
        "    dataset = dataset.prefetch(-1)\n",
        "  return dataset\n",
        "\n",
        "def get_validation_dataset():\n",
        "  dataset = tfds.load('mnist', split=\"test\", as_supervised=True, try_gcs=True)\n",
        "  dataset = dataset.map(read_image_tfds,num_parallel_calls = 16)\n",
        "\n",
        "  # dataset = dataset.cache() # this small dataset can be entirely cached in RAM\n",
        "  dataset = dataset.batch(10000,drop_remainder = True)\n",
        "  dataset = dataset.repeat()\n",
        "  return dataset\n",
        "\n",
        "# Instantiate the datasets\n",
        "with strategy.scope():\n",
        "  training_dataset = get_training_dataset()\n",
        "  validation_dataset = get_validation_dataset()\n",
        ""
      ],
      "metadata": {
        "id": "_lIV-e-CmYcM"
      },
      "execution_count": 34,
      "outputs": []
    },
    {
      "cell_type": "markdown",
      "source": [
        "# Visualize Data"
      ],
      "metadata": {
        "id": "v2l4pUCOrV6t"
      }
    },
    {
      "cell_type": "code",
      "source": [
        "(training_digits,training_labels,training_bboxes,\n",
        " validation_digits,validation_labels,validation_bboxes) = dataset_to_numpy_util(training_dataset,validation_dataset,10)\n",
        "\n",
        "display_digits_with_boxes(training_digits,training_labels,training_labels,np.array([]), training_bboxes, np.array([]), \"training digits and their labels\")\n",
        "display_digits_with_boxes(validation_digits,validation_labels,validation_labels,np.array([]), validation_bboxes, np.array([]), \"validation digits and their labels\")"
      ],
      "metadata": {
        "colab": {
          "base_uri": "https://localhost:8080/",
          "height": 649
        },
        "id": "usM6epxCrOXK",
        "outputId": "a9d0ce63-a746-4208-8fff-9c422eb7e1c2"
      },
      "execution_count": 35,
      "outputs": [
        {
          "output_type": "display_data",
          "data": {
            "text/plain": [
              "<Figure size 2000x400 with 11 Axes>"
            ],
            "image/png": "[encoded data removed]"
          },
          "metadata": {}
        },
        {
          "output_type": "display_data",
          "data": {
            "text/plain": [
              "<Figure size 2000x400 with 11 Axes>"
            ],
            "image/png": "[encoded data removed]"
          },
          "metadata": {}
        }
      ]
    },
    {
      "cell_type": "markdown",
      "source": [
        "# Define the Network"
      ],
      "metadata": {
        "id": "2TqLUXnYtoZM"
      }
    },
    {
      "cell_type": "code",
      "source": [
        "def feature_extractor(inputs):\n",
        "  x = tf.keras.layers.Conv2D(16,activation = 'relu',kernel_size = 3,input_shape = (75,75,1))(inputs)\n",
        "  x = tf.keras.layers.AveragePooling2D((2,2))(x)\n",
        "\n",
        "  x = tf.keras.layers.Conv2D(32,kernel_size = 3,activation = 'relu')(x)\n",
        "  x = tf.keras.layers.AveragePooling2D((2,2))(x)\n",
        "\n",
        "  x = tf.keras.layers.Conv2D(64,kernel_size = 3,activation = 'relu')(x)\n",
        "  x = tf.keras.layers.AveragePooling2D((2,2))(x)\n",
        "\n",
        "  return x\n",
        "\n",
        "def dense_layers(inputs):\n",
        "  x = tf.keras.layers.Flatten()(inputs)\n",
        "  x = tf.keras.layers.Dense(128,activation = 'relu')(x)\n",
        "  return x\n",
        "\n",
        "def classifier(inputs):\n",
        "  classification_output = tf.keras.layers.Dense(10,activation = 'softmax',name = 'classification')(inputs)\n",
        "  return classification_output\n",
        "\n",
        "def bounding_box_regression(inputs):\n",
        "  bounding_box_regression_output = tf.keras.layers.Dense(units = '4',name = 'bounding_box')(inputs)\n",
        "  return bounding_box_regression_output\n",
        "\n",
        "def final_model(inputs):\n",
        "  feature_cnn = feature_extractor(inputs)\n",
        "  dense_output = dense_layers(feature_cnn)\n",
        "\n",
        "  classification_output = classifier(dense_output)\n",
        "  bounding_box_output = bounding_box_regression(dense_output)\n",
        "\n",
        "  model = tf.keras.Model(inputs = inputs,outputs = [classification_output,bounding_box_output])\n",
        "\n",
        "  return model\n",
        "\n",
        "def define_and_compile_model(inputs):\n",
        "  model = final_model(inputs)\n",
        "\n",
        "  model.compile(\n",
        "      optimizer = 'adam',\n",
        "      loss = {'classification' : 'categorical_crossentropy',\n",
        "              'bounding_box':'mse'},\n",
        "      metrics = {'classification':'accuracy',\n",
        "                 'bounding_box':'mse'}\n",
        "  )\n",
        "  return model\n",
        "\n",
        "with strategy.scope():\n",
        "  inputs = tf.keras.layers.Input(shape = (75,75,1,))\n",
        "  model = define_and_compile_model(inputs)\n",
        "\n",
        "# Print model layers\n",
        "model.summary()"
      ],
      "metadata": {
        "colab": {
          "base_uri": "https://localhost:8080/"
        },
        "id": "XAl7_XyItsIl",
        "outputId": "5560e162-eaf3-40b8-b892-d33c2c6134db"
      },
      "execution_count": 39,
      "outputs": [
        {
          "output_type": "stream",
          "name": "stdout",
          "text": [
            "Model: \"model_3\"\n",
            "__________________________________________________________________________________________________\n",
            " Layer (type)                Output Shape                 Param #   Connected to                  \n",
            "==================================================================================================\n",
            " input_5 (InputLayer)        [(None, 75, 75, 1)]          0         []                            \n",
            "                                                                                                  \n",
            " conv2d_10 (Conv2D)          (None, 73, 73, 16)           160       ['input_5[0][0]']             \n",
            "                                                                                                  \n",
            " average_pooling2d_9 (Avera  (None, 36, 36, 16)           0         ['conv2d_10[0][0]']           \n",
            " gePooling2D)                                                                                     \n",
            "                                                                                                  \n",
            " conv2d_11 (Conv2D)          (None, 34, 34, 32)           4640      ['average_pooling2d_9[0][0]'] \n",
            "                                                                                                  \n",
            " average_pooling2d_10 (Aver  (None, 17, 17, 32)           0         ['conv2d_11[0][0]']           \n",
            " agePooling2D)                                                                                    \n",
            "                                                                                                  \n",
            " conv2d_12 (Conv2D)          (None, 15, 15, 64)           18496     ['average_pooling2d_10[0][0]']\n",
            "                                                                                                  \n",
            " average_pooling2d_11 (Aver  (None, 7, 7, 64)             0         ['conv2d_12[0][0]']           \n",
            " agePooling2D)                                                                                    \n",
            "                                                                                                  \n",
            " flatten_3 (Flatten)         (None, 3136)                 0         ['average_pooling2d_11[0][0]']\n",
            "                                                                                                  \n",
            " dense_3 (Dense)             (None, 128)                  401536    ['flatten_3[0][0]']           \n",
            "                                                                                                  \n",
            " classification (Dense)      (None, 10)                   1290      ['dense_3[0][0]']             \n",
            "                                                                                                  \n",
            " bounding_box (Dense)        (None, 4)                    516       ['dense_3[0][0]']             \n",
            "                                                                                                  \n",
            "==================================================================================================\n",
            "Total params: 426638 (1.63 MB)\n",
            "Trainable params: 426638 (1.63 MB)\n",
            "Non-trainable params: 0 (0.00 Byte)\n",
            "__________________________________________________________________________________________________\n"
          ]
        }
      ]
    },
    {
      "cell_type": "markdown",
      "source": [
        "# Train and Validate the model"
      ],
      "metadata": {
        "id": "vESGADtE1EJV"
      }
    },
    {
      "cell_type": "code",
      "source": [
        "EPOCHS = 10\n",
        "steps_per_epoch = 60000//BATCH_SIZE\n",
        "validation_steps = 1\n",
        "\n",
        "history = model.fit(\n",
        "    training_dataset,\n",
        "    steps_per_epoch = steps_per_epoch,\n",
        "    validation_data = validation_dataset,\n",
        "    validation_steps = validation_steps,\n",
        "    epochs = EPOCHS\n",
        ")\n",
        "\n",
        "loss,classification_loss,bounding_box_loss,classification_accuracy,bounding_box_mse = model.evaluate(validation_dataset,steps = 1)\n",
        "print(\"validation accuracy\",classification_accuracy)"
      ],
      "metadata": {
        "colab": {
          "base_uri": "https://localhost:8080/"
        },
        "id": "LAmPrAcc0lh6",
        "outputId": "8ad4f5bb-1b4a-4f56-a8f7-0af9b2dbcc10"
      },
      "execution_count": null,
      "outputs": [
        {
          "output_type": "stream",
          "name": "stdout",
          "text": [
            "Epoch 1/10\n",
            "937/937 [==============================] - 268s 281ms/step - loss: 0.9137 - classification_loss: 0.9007 - bounding_box_loss: 0.0130 - classification_accuracy: 0.6872 - bounding_box_mse: 0.0130 - val_loss: 0.2880 - val_classification_loss: 0.2807 - val_bounding_box_loss: 0.0073 - val_classification_accuracy: 0.9145 - val_bounding_box_mse: 0.0073\n",
            "Epoch 2/10\n",
            "937/937 [==============================] - 251s 268ms/step - loss: 0.2540 - classification_loss: 0.2490 - bounding_box_loss: 0.0050 - classification_accuracy: 0.9257 - bounding_box_mse: 0.0050 - val_loss: 0.1898 - val_classification_loss: 0.1859 - val_bounding_box_loss: 0.0039 - val_classification_accuracy: 0.9418 - val_bounding_box_mse: 0.0039\n",
            "Epoch 3/10\n",
            "937/937 [==============================] - 306s 327ms/step - loss: 0.1872 - classification_loss: 0.1840 - bounding_box_loss: 0.0032 - classification_accuracy: 0.9433 - bounding_box_mse: 0.0032 - val_loss: 0.1502 - val_classification_loss: 0.1473 - val_bounding_box_loss: 0.0029 - val_classification_accuracy: 0.9528 - val_bounding_box_mse: 0.0029\n",
            "Epoch 4/10\n",
            "937/937 [==============================] - 302s 322ms/step - loss: 0.1542 - classification_loss: 0.1518 - bounding_box_loss: 0.0024 - classification_accuracy: 0.9530 - bounding_box_mse: 0.0024 - val_loss: 0.1196 - val_classification_loss: 0.1175 - val_bounding_box_loss: 0.0021 - val_classification_accuracy: 0.9633 - val_bounding_box_mse: 0.0021\n",
            "Epoch 5/10\n",
            "892/937 [===========================>..] - ETA: 12s - loss: 0.1332 - classification_loss: 0.1313 - bounding_box_loss: 0.0020 - classification_accuracy: 0.9593 - bounding_box_mse: 0.0020"
          ]
        }
      ]
    },
    {
      "cell_type": "code",
      "source": [
        "plot_metrics('classification_loss','Classification Loss')\n",
        "plot_metrics('bounding_box_loss','Bounding Box Loss')"
      ],
      "metadata": {
        "id": "0Uz2Vk3l4KhG"
      },
      "execution_count": null,
      "outputs": []
    },
    {
      "cell_type": "markdown",
      "source": [
        "# Intersection Over Union"
      ],
      "metadata": {
        "id": "uEUW5pOf4X7M"
      }
    },
    {
      "cell_type": "code",
      "source": [
        "def intersection_over_union(pred_box,true_box):\n",
        "  xmin_pred, ymin_pred, xmax_pred, ymax_pred = np.split(pred_box,4,axis = 1)\n",
        "  xmin_true, ymin_true, xmax_true, ymax_true = np.split(true_box,4,axis = 1)\n",
        "\n",
        "  smoothin_factor = 1e-10\n",
        "\n",
        "  xmin_overlap = np.maximum(xmin_pred,xmin_true)\n",
        "  xmax_overlap = np.minimum(xmax_pred,xmax_true)\n",
        "  ymin_overlap = np.maximum(ymin_pred,ymin_true)\n",
        "  ymax_overlap = np.minimum(ymax_pred,ymax_true)\n",
        "\n",
        "  pred_box_area = (xmax_pred - xmin_pred) * (ymax_pred - ymin_pred)\n",
        "  true_box_area = (xmax_true - xmin_true) * (ymax_true - ymin_true)\n",
        "\n",
        "  overlap_area = np.maximum((xmax_overlap - xmin_overlap),0) * np.maximum((ymax_overlap - ymin_overlap),0)\n",
        "  union_area = pred_box_area + true_box_area - overlap_area\n",
        "\n",
        "  iou = (overlap_area + smoothin_factor) / (union_area + smoothin_factor)\n",
        "\n",
        "  return iou"
      ],
      "metadata": {
        "id": "WkrS82Nf4HNJ"
      },
      "execution_count": null,
      "outputs": []
    },
    {
      "cell_type": "markdown",
      "source": [
        "# Visualize Predictions"
      ],
      "metadata": {
        "id": "v4KIScGw7i4L"
      }
    },
    {
      "cell_type": "code",
      "source": [
        "# Recognize the validation digits\n",
        "predictions = model.predict(validation_digits,batch_size = 64)\n",
        "predicted_labels = np.argmax(predictions[0],axis = 1)\n",
        "\n",
        "predicted_bboxes = predictions[1]\n",
        "\n",
        "iou = intersection_over_union(predicted_bboxes,validation_bboxes)\n",
        "\n",
        "iou_threshold = 0.6\n",
        "\n",
        "print(\"Number of predictions where iou > threshold(%s): %s\" % (iou_threshold, (iou >= iou_threshold).sum()))\n",
        "print(\"Number of predictions where iou < threshold(%s): %s\" % (iou_threshold, (iou < iou_threshold).sum()))\n",
        "\n",
        "display_digits_with_boxes(validation_digits, predicted_labels, validation_labels, predicted_bboxes, validation_bboxes, iou, \"True and Predicted values\")"
      ],
      "metadata": {
        "id": "532C1cGx7h40"
      },
      "execution_count": null,
      "outputs": []
    }
  ]
}