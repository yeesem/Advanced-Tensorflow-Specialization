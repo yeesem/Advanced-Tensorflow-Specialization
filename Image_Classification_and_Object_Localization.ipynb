{
  "nbformat": 4,
  "nbformat_minor": 0,
  "metadata": {
    "colab": {
      "provenance": [],
      "authorship_tag": "ABX9TyNxlfVK+dI/L7OX1TICO+Ec",
      "include_colab_link": true
    },
    "kernelspec": {
      "name": "python3",
      "display_name": "Python 3"
    },
    "language_info": {
      "name": "python"
    }
  },
  "cells": [
    {
      "cell_type": "markdown",
      "metadata": {
        "id": "view-in-github",
        "colab_type": "text"
      },
      "source": [
        "<a href=\"https://colab.research.google.com/github/yeesem/Advanced-Tensorflow-Specialization/blob/main/Image_Classification_and_Object_Localization.ipynb\" target=\"_parent\"><img src=\"https://colab.research.google.com/assets/colab-badge.svg\" alt=\"Open In Colab\"/></a>"
      ]
    },
    {
      "cell_type": "markdown",
      "source": [
        "# Imports"
      ],
      "metadata": {
        "id": "WgiJvBsSJxa5"
      }
    },
    {
      "cell_type": "code",
      "execution_count": 12,
      "metadata": {
        "id": "vknIW68MJJLs"
      },
      "outputs": [],
      "source": [
        "import os,re,time,json\n",
        "import PIL.Image,PIL.ImageFont,PIL.ImageDraw\n",
        "import numpy as np\n",
        "\n",
        "import tensorflow as tf\n",
        "from matplotlib import pyplot as plt\n",
        "import tensorflow_datasets as tfds"
      ]
    },
    {
      "cell_type": "markdown",
      "source": [
        "# Visualization Utilities"
      ],
      "metadata": {
        "id": "8H3DO9R3J1vn"
      }
    },
    {
      "cell_type": "code",
      "source": [
        "im_width = 75\n",
        "im_height = 75\n",
        "use_normalized_coordinates = True\n",
        "\n",
        "def draw_bounding_boxes_on_image_array(\n",
        "    image,\n",
        "    boxes,\n",
        "    color = [],\n",
        "    thickness = 1,\n",
        "    display_str_list = ()\n",
        "):\n",
        "  # The input image, which is a NumPy array, is converted into a PIL\n",
        "  # (Python Imaging Library) image object using PIL.Image.fromarray.\n",
        "  image_pil = PIL.Image.fromarray(image)\n",
        "  # A new RGBA image is created with the same size as the original image.\n",
        "  # The \"RGBA\" mode means that the new image will have Red, Green, Blue, and\n",
        "  # Alpha (transparency) channels.\n",
        "  rgbimg = PIL.Image.new(\"RGBA\",image_pil.size)\n",
        "  # Paste the Original Image onto the RGBA Image:\n",
        "  rgbimg.paste(image_pil)\n",
        "  draw_bounding_boxes_on_image(rgbimg,boxes,color,thickness,\n",
        "                               display_str_list)\n",
        "  return np.array(rgbimg)\n",
        "\n",
        "def draw_bounding_boxes_on_image(\n",
        "    image,\n",
        "    boxes,\n",
        "    color = [],\n",
        "    thickness = 1,\n",
        "    display_str_list = ()\n",
        "):\n",
        "  boxes_shape = boxes.shape\n",
        "  if not boxes_shape:\n",
        "    return\n",
        "  if len(boxes_shape)!=2 or boxes_shape[1] != 4:\n",
        "    raise ValueError(\"Input must be of size [N,4]\")\n",
        "  for i in range(boxes_shape[0]):\n",
        "    draw_bounding_box_on_image(image,boxes[i,1],boxes[i,0],boxes[i,3],\n",
        "                               boxes[i,2],color[i],thickness,display_str_list[i])\n",
        "\n",
        "def draw_bounding_box_on_image(\n",
        "    image,\n",
        "    ymin,\n",
        "    xmin,\n",
        "    ymax,\n",
        "    xmax,\n",
        "    color = 'red',\n",
        "    thickness = 1,\n",
        "    display_str = None,\n",
        "    use_normalized_coordinates = True\n",
        "):\n",
        "  draw = PIL.ImageDraw.Draw(image)\n",
        "  im_width,im_height = image.size\n",
        "  if use_normalized_coordinates:\n",
        "    (left,right,top,bottom) = (xmin * im_width,xmax * im_width,\n",
        "                               ymin* im_height,ymax * im_height)\n",
        "  else:\n",
        "    (left,right,top,bottom) = (xmin,xmax,ymin,ymax)\n",
        "\n",
        "  draw.line([(left,top),(left,bottom),(right,bottom),\n",
        "             (right,top),(left,top)],width = thickness,fill = color)\n"
      ],
      "metadata": {
        "id": "5dzf3IX0Jpm0"
      },
      "execution_count": 19,
      "outputs": []
    },
    {
      "cell_type": "code",
      "source": [
        "plt.rc('image',cmap='gray')\n",
        "plt.rc('grid',linewidth = 0)\n",
        "plt.rc('xtick',top = False,bottom = False,labelsize = 'large')\n",
        "plt.rc('ytick',left = False,right = False,labelsize = 'large')\n",
        "plt.rc('axes',facecolor = 'F8F8F8',titlesize = 'large',edgecolor = 'white')\n",
        "plt.rc('text',color = 'a8151a')\n",
        "plt.rc('figure', facecolor='F0F0F0')# Matplotlib fonts\n",
        "MATPLOTLIB_FONT_DIR = os.path.join(os.path.dirname(plt.__file__), \"mpl-data/fonts/ttf\")\n",
        "\n",
        "def dataset_to_numpy_util(training_dataset,validation_dataset,N):\n",
        "\n",
        "  # get one batch from each: 10000 validation digits, N training digits\n",
        "  batch_train_ds = training_dataset.unbatch().batch(N)\n",
        "\n",
        "  # Eager execution : Loop through datasets normally\n",
        "  if tf.executing_eagerly():\n",
        "    for validation_digits, (validation_labels,validation_bboxes) in validation_dataset:\n",
        "      validation_digits = validation_digits.numpy()\n",
        "      validation_labels = validation_labels.numpy()\n",
        "      validation_bboxes = validation_bboxes.numpy()\n",
        "      break\n",
        "    for training_digits, (training_labels,training_bboxes) in batch_train_ds:\n",
        "      training_digits = training_digits.numpy()\n",
        "      training_labels = training_labels.numpy()\n",
        "      training_bboxes = training_bboxes.numpy()\n",
        "      break\n",
        "\n",
        "    # these were one-hot encoded in the dataset\n",
        "    validation_labels = np.argmax(validation_labels,axis = 1)\n",
        "    training_labels = np.argmax(training_labels,axis = 1)\n",
        "\n",
        "    return (training_digits, training_labels, training_bboxes,\n",
        "          validation_digits, validation_labels, validation_bboxes)\n",
        "\n",
        "def create_digits_from_local_fonts(n):\n",
        "  font_labels = []\n",
        "  img = PIL.Image.new('LA', (75*n, 75), color = (0,255)) # format 'LA': black in channel 0, alpha in channel 1\n",
        "  font1 = PIL.ImageFont.truetype(os.path.join(MATPLOTLIB_FONT_DIR, 'DejaVuSansMono-Oblique.ttf'), 25)\n",
        "  font2 = PIL.ImageFont.truetype(os.path.join(MATPLOTLIB_FONT_DIR, 'STIXGeneral.ttf'), 25)\n",
        "  d = PIL.ImageDraw.Draw(img)\n",
        "  for i in range(n):\n",
        "    font_labels.append(i%10)\n",
        "    d.text((7+i*75,0 if i<10 else -4), str(i%10), fill=(255,255), font=font1 if i<10 else font2)\n",
        "  font_digits = np.array(img.getdata(), np.float32)[:,0] / 255.0 # black in channel 0, alpha in channel 1 (discarded)\n",
        "  font_digits = np.reshape(np.stack(np.split(np.reshape(font_digits, [75, 75*n]), n, axis=1), axis=0), [n, 75*75])\n",
        "  return font_digits, font_labels\n",
        "\n",
        "def display_digits_with_boxes(digits, predictions, labels, pred_bboxes, bboxes, iou, title):\n",
        "  n = 10\n",
        "\n",
        "  indexes = np.random.choice(len(predictions),size = n)\n",
        "  n_digits = digits[indexes]\n",
        "  n_predictions = predictions[indexes]\n",
        "  n_labels = labels[indexes]\n",
        "\n",
        "  n_iou = []\n",
        "  if len(iou) > 0:\n",
        "    n_iou = iou[indexes]\n",
        "\n",
        "  if (len(pred_bboxes) > 0):\n",
        "    n_pred_bboxes = pred_bboxes[indexes,:]\n",
        "\n",
        "  if (len(bboxes) > 0):\n",
        "    n_bboxes = bboxes[indexes,:]\n",
        "\n",
        "  n_digits = n_digits * 255.0\n",
        "  n_digits = n_digits.reshape(n, 75, 75)\n",
        "  fig = plt.figure(figsize=(20, 4))\n",
        "  plt.title(title)\n",
        "  plt.yticks([])\n",
        "  plt.xticks([])\n",
        "\n",
        "  for i in range(10):\n",
        "      ax = fig.add_subplot(1, 10, i+1)\n",
        "      bboxes_to_plot = []\n",
        "      if (len(pred_bboxes) > i):\n",
        "        bboxes_to_plot.append(n_pred_bboxes[i])\n",
        "\n",
        "      if (len(bboxes) > i):\n",
        "        bboxes_to_plot.append(n_bboxes[i])\n",
        "\n",
        "      img_to_draw = draw_bounding_boxes_on_image_array(image=n_digits[i], boxes=np.asarray(bboxes_to_plot), color=['red', 'green'], display_str_list=[\"true\", \"pred\"])\n",
        "      plt.xlabel(n_predictions[i])\n",
        "      plt.xticks([])\n",
        "      plt.yticks([])\n",
        "\n",
        "      if n_predictions[i] != n_labels[i]:\n",
        "        ax.xaxis.label.set_color('red')\n",
        "\n",
        "      plt.imshow(img_to_draw)\n",
        "\n",
        "      if len(iou) > i :\n",
        "        color = \"black\"\n",
        "        if (n_iou[i][0] < iou_threshold):\n",
        "          color = \"red\"\n",
        "        ax.text(0.2, -0.3, \"iou: %s\" %(n_iou[i][0]), color=color, transform=ax.transAxes)\n",
        "\n",
        "\n",
        "# utility to display training and validation curves\n",
        "def plot_metrics(metric_name, title, ylim=5):\n",
        "  plt.title(title)\n",
        "  plt.ylim(0,ylim)\n",
        "  plt.plot(history.history[metric_name],color='blue',label=metric_name)\n",
        "  plt.plot(history.history['val_' + metric_name],color='green',label='val_' + metric_name)\n"
      ],
      "metadata": {
        "id": "2yZmLTd8Qq_c"
      },
      "execution_count": 14,
      "outputs": []
    },
    {
      "cell_type": "markdown",
      "source": [
        "# Selecting TPU or GPU Strategies"
      ],
      "metadata": {
        "id": "i9nomIGUkMKi"
      }
    },
    {
      "cell_type": "code",
      "source": [
        "# Detect hardware\n",
        "try:\n",
        "  # TPU Detector\n",
        "  tpu = tf.distribute.cluster_resolver.TPUClusterResolver()\n",
        "except ValueError:\n",
        "  tpu = None\n",
        "  gpus = tf.config.experimental.list_logical_devices(\"GPU\")\n",
        "\n",
        "# Select appropriate distribution strategy\n",
        "if tpu:\n",
        "  tf.config.experimental_connect_to_cluster(tpu)\n",
        "  tf.tpu.experimental.initialize_tpu_system(tpu)\n",
        "  strategy = tf.distribute.experimental.TPUStrategy(tpu)\n",
        "  print(\"Running on TPU \",tpu.cluster_spec().as_dict()['worker'])\n",
        "elif len(gpus) > 1:\n",
        "  strategy = tf.distribute.MirroredStrategy([gpu.name for gpu in gpus])\n",
        "  print(\"Running on multiple GPUs \",[gpu.name for gpu in gpus])\n",
        "elif len(gpus) == 1:\n",
        "  strategy = tf.distribute.get_strategy()\n",
        "  print(\"Running on single GPU \",gpus[0].name)\n",
        "else:\n",
        "  # Default strategy that works on CPU and single GPU\n",
        "  strategy = tf.distribute.get_strategy()\n",
        "  print(\"Running on CPU\")\n",
        "print(\"Number of accelerators: \",strategy.num_replicas_in_sync)"
      ],
      "metadata": {
        "colab": {
          "base_uri": "https://localhost:8080/"
        },
        "id": "-397g8nvkQzr",
        "outputId": "5133206d-8333-48ce-c624-2a739151964d"
      },
      "execution_count": 15,
      "outputs": [
        {
          "output_type": "stream",
          "name": "stdout",
          "text": [
            "Running on CPU\n",
            "Number of accelerators:  1\n"
          ]
        }
      ]
    },
    {
      "cell_type": "markdown",
      "source": [
        "# Parameters"
      ],
      "metadata": {
        "id": "Rd3oHAJ-l_fT"
      }
    },
    {
      "cell_type": "code",
      "source": [
        "BATCH_SIZE = 64 * strategy.num_replicas_in_sync"
      ],
      "metadata": {
        "id": "J9F92Yunl4ht"
      },
      "execution_count": 16,
      "outputs": []
    },
    {
      "cell_type": "markdown",
      "source": [
        "# Loading and Preprocessing the Dataset"
      ],
      "metadata": {
        "id": "YR0XPnCimVMC"
      }
    },
    {
      "cell_type": "code",
      "source": [
        "def read_image_tfds(image,label):\n",
        "  xmin = tf.random.uniform((), 0 , 48, dtype=tf.int32)\n",
        "  ymin = tf.random.uniform((), 0 , 48, dtype=tf.int32)\n",
        "  image = tf.reshape(image, (28,28,1,))\n",
        "\n",
        "  image = tf.image.pad_to_bounding_box(image, ymin, xmin, 75, 75)\n",
        "  image = tf.cast(image, tf.float32)/255.0\n",
        "  xmin = tf.cast(xmin, tf.float32)\n",
        "  ymin = tf.cast(ymin, tf.float32)\n",
        "\n",
        "  xmax = (xmin + 28) / 75\n",
        "  ymax = (ymin + 28) / 75\n",
        "  xmin = xmin / 75\n",
        "  ymin = ymin / 75\n",
        "  return image, (tf.one_hot(label, 10), [xmin, ymin, xmax, ymax])\n",
        "\n",
        "def get_training_dataset():\n",
        "  with strategy.scope():\n",
        "    # When as_supervised is set to True, the dataset is returned as a tuple of (input, label)\n",
        "    # When try_gcs is set to True, TensorFlow Datasets will first attempt to load the dataset\n",
        "    # from GCS. This can be faster and more efficient, especially when working in environments like\n",
        "    # Google Cloud or Colab, as it might reduce download time and latency.\n",
        "    dataset = tfds.load('mnist',split = 'train',as_supervised=True, try_gcs=True)\n",
        "    # Utilizes parallel processing with 16 parallel calls to improve the efficiency of the mapping operation\n",
        "    dataset = dataset.map(read_image_tfds,num_parallel_calls = 16)\n",
        "    # When set to True, the dataset is reshuffled for each iteration. This ensures that each epoch (complete pass\n",
        "    # through the dataset) uses a different order of elements, further improving the model's robustness.\n",
        "    dataset = dataset.shuffle(5000,reshuffle_each_iteration = True)\n",
        "    dataset = dataset.repeat()\n",
        "    # drop_remainder=True: When set to True, any leftover elements that do not fit into a full batch are dropped.\n",
        "    dataset = dataset.batch(BATCH_SIZE,drop_remainder = True)\n",
        "    # prefetch(-1): This method allows the data to be preloaded in the background while the model is training,\n",
        "    # which can significantly improve the training throughput\n",
        "    dataset = dataset.prefetch(-1)\n",
        "  return dataset\n",
        "\n",
        "def get_validation_dataset():\n",
        "  dataset = tfds.load('mnist', split=\"test\", as_supervised=True, try_gcs=True)\n",
        "  dataset = dataset.map(read_image_tfds,num_parallel_calls = 16)\n",
        "\n",
        "  # dataset = dataset.cache() # this small dataset can be entirely cached in RAM\n",
        "  dataset = dataset.batch(10000,drop_remainder = True)\n",
        "  dataset = dataset.repeat()\n",
        "  return dataset\n",
        "\n",
        "# Instantiate the datasets\n",
        "with strategy.scope():\n",
        "  training_dataset = get_training_dataset()\n",
        "  validation_dataset = get_validation_dataset()\n",
        ""
      ],
      "metadata": {
        "id": "_lIV-e-CmYcM"
      },
      "execution_count": 17,
      "outputs": []
    },
    {
      "cell_type": "markdown",
      "source": [
        "# Visualize Data"
      ],
      "metadata": {
        "id": "v2l4pUCOrV6t"
      }
    },
    {
      "cell_type": "code",
      "source": [
        "(training_digits,training_labels,training_bboxes,\n",
        " validation_digits,validation_labels,validation_bboxes) = dataset_to_numpy_util(training_dataset,validation_dataset,10)\n",
        "\n",
        "display_digits_with_boxes(training_digits,training_labels,training_labels,np.array([]), training_bboxes, np.array([]), \"training digits and their labels\")\n",
        "display_digits_with_boxes(validation_digits,validation_labels,validation_labels,np.array([]), validation_bboxes, np.array([]), \"validation digits and their labels\")"
      ],
      "metadata": {
        "colab": {
          "base_uri": "https://localhost:8080/",
          "height": 649
        },
        "id": "usM6epxCrOXK",
        "outputId": "d7a2a372-a620-4d6b-c134-e57a405a1389"
      },
      "execution_count": 21,
      "outputs": [
        {
          "output_type": "display_data",
          "data": {
            "text/plain": [
              "<Figure size 2000x400 with 11 Axes>"
            ],
            "image/png": "[encoded data removed]"
          },
          "metadata": {}
        },
        {
          "output_type": "display_data",
          "data": {
            "text/plain": [
              "<Figure size 2000x400 with 11 Axes>"
            ],
            "image/png": "[encoded data removed]"
          },
          "metadata": {}
        }
      ]
    },
    {
      "cell_type": "markdown",
      "source": [
        "# Define the Network"
      ],
      "metadata": {
        "id": "2TqLUXnYtoZM"
      }
    },
    {
      "cell_type": "code",
      "source": [
        "def feature_extractor(inputs):\n",
        "  x = tf.keras.layers.Conv2D(16,activation = 'relu',kernel_size = 3,input_shape = (75,75,1))(inputs)\n",
        "  x = tf.keras.layers.AveragePooling2D((2,2))(x)\n",
        "\n",
        "  x = tf.keras.layers.Conv2D(32,kernel_size = 3,activation = 'relu')(x)\n",
        "  x = tf.keras.layers.AveragePooling2D((2,2))(x)\n",
        "\n",
        "  x = tf.keras.layers.Conv2D(64,kernel_size = 3,activation = 'relu')(x)\n",
        "  x = tf.keras.layers.AveragePooling2D((2,2))(x)\n",
        "\n",
        "  return x\n",
        "\n",
        "def dense_layers(inputs):\n",
        "  x = tf.keras.layers.Flatten()(inputs)\n",
        "  x = tf.keras.layers.Dense(128,activation = 'relu')(x)\n",
        "  return x\n",
        "\n",
        "def classifier(inputs):\n",
        "  classification_output = tf.keras.layers.Dense(10,activation = 'softmax',name = 'classification')(inputs)\n",
        "  return classification_output\n",
        "\n",
        "def bounding_box_regression(inputs):\n",
        "  bounding_box_regression_output = tf.keras.layers.Dense(units = 4,name = 'bounding_box')(inputs)\n",
        "  return bounding_box_regression_output\n",
        "\n",
        "def final_model(inputs):\n",
        "  feature_cnn = feature_extractor(inputs)\n",
        "  dense_output = dense_layers(feature_cnn)\n",
        "\n",
        "  classification_output = classifier(feature_cnn)\n",
        "  bounding_box_output = bounding_box_regression(dense_output)\n",
        "\n",
        "  model = tf.keras.Model(inputs = inputs,outputs = [classification_output,bounding_box_output])\n",
        "\n",
        "  return model\n",
        "\n",
        "def define_and_compile_model(inputs):\n",
        "  model = final_model(inputs)\n",
        "\n",
        "  model.compile(\n",
        "      optimizer = 'adam',\n",
        "      loss = {'classification' : 'categorical_crossentropy',\n",
        "              'bounding_box':'mse'},\n",
        "      metrics = {'classification':'accuracy',\n",
        "                 'bounding_box':'mse'}\n",
        "  )\n",
        "  return model\n",
        "\n",
        "with strategy.scope():\n",
        "  inputs = tf.keras.layers.Input(shape = (75,75,1,))\n",
        "  model = define_and_compile_model(inputs)\n",
        "\n",
        "# Print model layers\n",
        "model.summary()"
      ],
      "metadata": {
        "colab": {
          "base_uri": "https://localhost:8080/"
        },
        "id": "XAl7_XyItsIl",
        "outputId": "508e8e9f-8b99-4d7f-a4be-c3442d131f87"
      },
      "execution_count": 24,
      "outputs": [
        {
          "output_type": "stream",
          "name": "stdout",
          "text": [
            "Model: \"model\"\n",
            "__________________________________________________________________________________________________\n",
            " Layer (type)                Output Shape                 Param #   Connected to                  \n",
            "==================================================================================================\n",
            " input_2 (InputLayer)        [(None, 75, 75, 1)]          0         []                            \n",
            "                                                                                                  \n",
            " conv2d_1 (Conv2D)           (None, 73, 73, 16)           160       ['input_2[0][0]']             \n",
            "                                                                                                  \n",
            " average_pooling2d (Average  (None, 36, 36, 16)           0         ['conv2d_1[0][0]']            \n",
            " Pooling2D)                                                                                       \n",
            "                                                                                                  \n",
            " conv2d_2 (Conv2D)           (None, 34, 34, 32)           4640      ['average_pooling2d[0][0]']   \n",
            "                                                                                                  \n",
            " average_pooling2d_1 (Avera  (None, 17, 17, 32)           0         ['conv2d_2[0][0]']            \n",
            " gePooling2D)                                                                                     \n",
            "                                                                                                  \n",
            " conv2d_3 (Conv2D)           (None, 15, 15, 64)           18496     ['average_pooling2d_1[0][0]'] \n",
            "                                                                                                  \n",
            " average_pooling2d_2 (Avera  (None, 7, 7, 64)             0         ['conv2d_3[0][0]']            \n",
            " gePooling2D)                                                                                     \n",
            "                                                                                                  \n",
            " flatten (Flatten)           (None, 3136)                 0         ['average_pooling2d_2[0][0]'] \n",
            "                                                                                                  \n",
            " dense (Dense)               (None, 128)                  401536    ['flatten[0][0]']             \n",
            "                                                                                                  \n",
            " classification (Dense)      (None, 7, 7, 10)             650       ['average_pooling2d_2[0][0]'] \n",
            "                                                                                                  \n",
            " bounding_box (Dense)        (None, 4)                    516       ['dense[0][0]']               \n",
            "                                                                                                  \n",
            "==================================================================================================\n",
            "Total params: 425998 (1.63 MB)\n",
            "Trainable params: 425998 (1.63 MB)\n",
            "Non-trainable params: 0 (0.00 Byte)\n",
            "__________________________________________________________________________________________________\n"
          ]
        }
      ]
    },
    {
      "cell_type": "markdown",
      "source": [
        "# Train and Validate the model"
      ],
      "metadata": {
        "id": "vESGADtE1EJV"
      }
    },
    {
      "cell_type": "code",
      "source": [],
      "metadata": {
        "id": "LAmPrAcc0lh6"
      },
      "execution_count": null,
      "outputs": []
    }
  ]
}