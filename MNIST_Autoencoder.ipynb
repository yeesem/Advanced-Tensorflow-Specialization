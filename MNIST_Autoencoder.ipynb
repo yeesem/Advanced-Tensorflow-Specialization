{
  "nbformat": 4,
  "nbformat_minor": 0,
  "metadata": {
    "colab": {
      "provenance": [],
      "authorship_tag": "ABX9TyM74XaM6/ea3uBEgaz3OtLX"
    },
    "kernelspec": {
      "name": "python3",
      "display_name": "Python 3"
    },
    "language_info": {
      "name": "python"
    }
  },
  "cells": [
    {
      "cell_type": "markdown",
      "source": [
        "# Imports"
      ],
      "metadata": {
        "id": "tAAB0DECg9NA"
      }
    },
    {
      "cell_type": "code",
      "execution_count": 21,
      "metadata": {
        "id": "1ocu5imggxck"
      },
      "outputs": [],
      "source": [
        "import tensorflow as tf\n",
        "import tensorflow_datasets as tfds\n",
        "\n",
        "import numpy as np\n",
        "import matplotlib.pyplot as plt"
      ]
    },
    {
      "cell_type": "markdown",
      "source": [
        "# Prepare the Dataset"
      ],
      "metadata": {
        "id": "W1HT_gRjhGSQ"
      }
    },
    {
      "cell_type": "code",
      "source": [
        "def map_image(image,label):\n",
        "  image = tf.cast(image,dtype = tf.float32)\n",
        "  image = image / 255.0\n",
        "  image = tf.reshape(image,shape = (784,))\n",
        "\n",
        "  return image,image"
      ],
      "metadata": {
        "id": "59cLjjYEhJWf"
      },
      "execution_count": 22,
      "outputs": []
    },
    {
      "cell_type": "code",
      "source": [
        "# Load the train and test sets from TFDS\n",
        "BATCH_SIZE = 128\n",
        "SHUFFLE_BUFFER_SIZE = 1024\n",
        "\n",
        "train_dataset = tfds.load('mnist',as_supervised = True,split = 'train')\n",
        "train_dataset = train_dataset.map(map_image)\n",
        "train_dataset = train_dataset.shuffle(SHUFFLE_BUFFER_SIZE).batch(BATCH_SIZE).repeat()\n",
        "\n",
        "test_dataset = tfds.load('mnist',as_supervised = True,split = 'test')\n",
        "test_dataset = test_dataset.map(map_image)\n",
        "# repeat() function is used to repeat the elements of a dataset.\n",
        "# repeat() then makes the batched dataset repeat indefinitely.\n",
        "# it ensures that the dataset provides a continuous stream of data without running out.\n",
        "test_dataset = test_dataset.batch(BATCH_SIZE).repeat()"
      ],
      "metadata": {
        "id": "CzDIwOyLp4Xi"
      },
      "execution_count": 23,
      "outputs": []
    },
    {
      "cell_type": "markdown",
      "source": [
        "# Build the Model"
      ],
      "metadata": {
        "id": "pPyiUNEart1H"
      }
    },
    {
      "cell_type": "code",
      "source": [
        "def simple_autoencoder(inputs):\n",
        "  encoder = tf.keras.layers.Dense(units = 32,activation = 'relu')(inputs)\n",
        "  decoder = tf.keras.layers.Dense(units = 784,activation = 'sigmoid')(encoder)\n",
        "\n",
        "  return encoder,decoder\n",
        "\n",
        "# Set the input shape\n",
        "inputs = tf.keras.layers.Input(shape = (784,))\n",
        "\n",
        "# Get the encoder and decoder output\n",
        "encoder_output,decoder_output = simple_autoencoder(inputs)\n",
        "\n",
        "# Setup the encoder because will visualize its output later\n",
        "encoder_model = tf.keras.Model(inputs = inputs,outputs = encoder_output)\n",
        "\n",
        "# Setup the autoencoder\n",
        "autoencoder_model = tf.keras.Model(inputs = inputs,outputs = decoder_output)"
      ],
      "metadata": {
        "id": "oX8Z81fDryEb"
      },
      "execution_count": 24,
      "outputs": []
    },
    {
      "cell_type": "markdown",
      "source": [
        "# Compile the Model"
      ],
      "metadata": {
        "id": "e3LP0Usrs_SD"
      }
    },
    {
      "cell_type": "code",
      "source": [
        "autoencoder_model.compile(\n",
        "    optimizer = tf.keras.optimizers.Adam(),\n",
        "    loss = 'binary_crossentropy'\n",
        ")"
      ],
      "metadata": {
        "id": "oBcmG9HHs-xj"
      },
      "execution_count": 25,
      "outputs": []
    },
    {
      "cell_type": "markdown",
      "source": [
        "# Train the Model"
      ],
      "metadata": {
        "id": "HgCNvLxutOoF"
      }
    },
    {
      "cell_type": "code",
      "source": [
        "train_steps = 60000 // BATCH_SIZE\n",
        "simple_auto_history = autoencoder_model.fit(train_dataset,\n",
        "                                             steps_per_epoch = train_steps,\n",
        "                                             epochs = 50)"
      ],
      "metadata": {
        "colab": {
          "base_uri": "https://localhost:8080/"
        },
        "id": "Eicp9NA6tLot",
        "outputId": "354e159a-e757-4c5b-9c14-be13de860b47"
      },
      "execution_count": 26,
      "outputs": [
        {
          "output_type": "stream",
          "name": "stdout",
          "text": [
            "Epoch 1/50\n",
            "468/468 [==============================] - 10s 21ms/step - loss: 0.2290\n",
            "Epoch 2/50\n",
            "468/468 [==============================] - 5s 11ms/step - loss: 0.1436\n",
            "Epoch 3/50\n",
            "468/468 [==============================] - 5s 11ms/step - loss: 0.1190\n",
            "Epoch 4/50\n",
            "468/468 [==============================] - 7s 15ms/step - loss: 0.1065\n",
            "Epoch 5/50\n",
            "468/468 [==============================] - 6s 12ms/step - loss: 0.1000\n",
            "Epoch 6/50\n",
            "468/468 [==============================] - 8s 18ms/step - loss: 0.0968\n",
            "Epoch 7/50\n",
            "468/468 [==============================] - 5s 11ms/step - loss: 0.0953\n",
            "Epoch 8/50\n",
            "468/468 [==============================] - 6s 13ms/step - loss: 0.0946\n",
            "Epoch 9/50\n",
            "468/468 [==============================] - 6s 13ms/step - loss: 0.0942\n",
            "Epoch 10/50\n",
            "468/468 [==============================] - 5s 10ms/step - loss: 0.0939\n",
            "Epoch 11/50\n",
            "468/468 [==============================] - 7s 15ms/step - loss: 0.0937\n",
            "Epoch 12/50\n",
            "468/468 [==============================] - 5s 11ms/step - loss: 0.0936\n",
            "Epoch 13/50\n",
            "468/468 [==============================] - 6s 13ms/step - loss: 0.0934\n",
            "Epoch 14/50\n",
            "468/468 [==============================] - 6s 12ms/step - loss: 0.0933\n",
            "Epoch 15/50\n",
            "468/468 [==============================] - 5s 11ms/step - loss: 0.0933\n",
            "Epoch 16/50\n",
            "468/468 [==============================] - 7s 15ms/step - loss: 0.0932\n",
            "Epoch 17/50\n",
            "468/468 [==============================] - 5s 11ms/step - loss: 0.0931\n",
            "Epoch 18/50\n",
            "468/468 [==============================] - 6s 14ms/step - loss: 0.0931\n",
            "Epoch 19/50\n",
            "468/468 [==============================] - 6s 12ms/step - loss: 0.0931\n",
            "Epoch 20/50\n",
            "468/468 [==============================] - 5s 11ms/step - loss: 0.0930\n",
            "Epoch 21/50\n",
            "468/468 [==============================] - 7s 15ms/step - loss: 0.0930\n",
            "Epoch 22/50\n",
            "468/468 [==============================] - 5s 11ms/step - loss: 0.0930\n",
            "Epoch 23/50\n",
            "468/468 [==============================] - 7s 15ms/step - loss: 0.0929\n",
            "Epoch 24/50\n",
            "468/468 [==============================] - 5s 11ms/step - loss: 0.0929\n",
            "Epoch 25/50\n",
            "468/468 [==============================] - 6s 12ms/step - loss: 0.0929\n",
            "Epoch 26/50\n",
            "468/468 [==============================] - 6s 13ms/step - loss: 0.0929\n",
            "Epoch 27/50\n",
            "468/468 [==============================] - 5s 11ms/step - loss: 0.0929\n",
            "Epoch 28/50\n",
            "468/468 [==============================] - 7s 14ms/step - loss: 0.0928\n",
            "Epoch 29/50\n",
            "468/468 [==============================] - 5s 11ms/step - loss: 0.0928\n",
            "Epoch 30/50\n",
            "468/468 [==============================] - 6s 13ms/step - loss: 0.0928\n",
            "Epoch 31/50\n",
            "468/468 [==============================] - 6s 12ms/step - loss: 0.0928\n",
            "Epoch 32/50\n",
            "468/468 [==============================] - 6s 12ms/step - loss: 0.0928\n",
            "Epoch 33/50\n",
            "468/468 [==============================] - 7s 14ms/step - loss: 0.0927\n",
            "Epoch 34/50\n",
            "468/468 [==============================] - 5s 11ms/step - loss: 0.0927\n",
            "Epoch 35/50\n",
            "468/468 [==============================] - 6s 14ms/step - loss: 0.0927\n",
            "Epoch 36/50\n",
            "468/468 [==============================] - 6s 13ms/step - loss: 0.0927\n",
            "Epoch 37/50\n",
            "468/468 [==============================] - 6s 14ms/step - loss: 0.0927\n",
            "Epoch 38/50\n",
            "468/468 [==============================] - 6s 12ms/step - loss: 0.0927\n",
            "Epoch 39/50\n",
            "468/468 [==============================] - 5s 11ms/step - loss: 0.0927\n",
            "Epoch 40/50\n",
            "468/468 [==============================] - 7s 15ms/step - loss: 0.0926\n",
            "Epoch 41/50\n",
            "468/468 [==============================] - 5s 11ms/step - loss: 0.0926\n",
            "Epoch 42/50\n",
            "468/468 [==============================] - 7s 14ms/step - loss: 0.0926\n",
            "Epoch 43/50\n",
            "468/468 [==============================] - 5s 11ms/step - loss: 0.0926\n",
            "Epoch 44/50\n",
            "468/468 [==============================] - 5s 11ms/step - loss: 0.0926\n",
            "Epoch 45/50\n",
            "468/468 [==============================] - 7s 15ms/step - loss: 0.0926\n",
            "Epoch 46/50\n",
            "468/468 [==============================] - 5s 11ms/step - loss: 0.0926\n",
            "Epoch 47/50\n",
            "468/468 [==============================] - 9s 19ms/step - loss: 0.0926\n",
            "Epoch 48/50\n",
            "468/468 [==============================] - 5s 12ms/step - loss: 0.0926\n",
            "Epoch 49/50\n",
            "468/468 [==============================] - 6s 14ms/step - loss: 0.0925\n",
            "Epoch 50/50\n",
            "468/468 [==============================] - 6s 12ms/step - loss: 0.0926\n"
          ]
        }
      ]
    },
    {
      "cell_type": "markdown",
      "source": [
        "# Display sample results"
      ],
      "metadata": {
        "id": "vh73vea3uTy8"
      }
    },
    {
      "cell_type": "code",
      "source": [
        "def display_one_row(disp_images,offset,shape = (28,28)):\n",
        "  for idx,test_image in enumerate(disp_images):\n",
        "    plt.subplot(3,10,offset + idx +  1)\n",
        "    plt.xticks([])\n",
        "    plt.yticks([])\n",
        "    test_image = np.reshape(test_image,shape)\n",
        "    plt.imshow(test_image,cmap = 'gray')\n",
        "\n",
        "def display_results(disp_input_images,disp_encoded,disp_predicted,enc_shape = (8,4)):\n",
        "  plt.figure(figsize = (15,5))\n",
        "  display_one_row(disp_input_images,0,shape = (28,28,))\n",
        "  display_one_row(disp_encoded,10,shape = enc_shape)\n",
        "  display_one_row(disp_predicted,20,shape = (28,28,))"
      ],
      "metadata": {
        "id": "RELRAZKwuCJF"
      },
      "execution_count": 29,
      "outputs": []
    },
    {
      "cell_type": "code",
      "source": [
        "# Take 1 batch of the dataset\n",
        "test_dataset = test_dataset.take(1)\n",
        "\n",
        "# Take the input images and put them in a list\n",
        "output_samples = []\n",
        "for input_image,image in tfds.as_numpy(test_dataset):\n",
        "  output_samples = input_image\n",
        "\n",
        "# picks 10 random numbers to be used as indices to the list above\n",
        "idxs = np.random.choice(BATCH_SIZE,size = 10)\n",
        "\n",
        "# Get the encoder output\n",
        "encoded_predicted = encoder_model.predict(test_dataset)\n",
        "\n",
        "# Get a prediction for the test batch\n",
        "simple_predicted = autoencoder_model.predict(test_dataset)\n",
        "\n",
        "# Display the 10 samples, encodings and decoded values\n",
        "display_results(output_samples[idxs],encoded_predicted[idxs],simple_predicted[idxs])"
      ],
      "metadata": {
        "colab": {
          "base_uri": "https://localhost:8080/",
          "height": 443
        },
        "id": "Wx6iYNKbv93_",
        "outputId": "0505d87a-4949-4fdb-c0fa-b8ed62aba8aa"
      },
      "execution_count": 30,
      "outputs": [
        {
          "output_type": "stream",
          "name": "stdout",
          "text": [
            "1/1 [==============================] - 0s 85ms/step\n",
            "1/1 [==============================] - 0s 80ms/step\n"
          ]
        },
        {
          "output_type": "display_data",
          "data": {
            "text/plain": [
              "<Figure size 1500x500 with 30 Axes>"
            ],
            "image/png": "[encoded data removed]"
          },
          "metadata": {}
        }
      ]
    }
  ]
}