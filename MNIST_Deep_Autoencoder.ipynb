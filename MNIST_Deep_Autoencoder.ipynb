{
  "nbformat": 4,
  "nbformat_minor": 0,
  "metadata": {
    "colab": {
      "provenance": [],
      "gpuType": "T4",
      "authorship_tag": "ABX9TyNS5lbdPijvwDyJQI7uhKmf"
    },
    "kernelspec": {
      "name": "python3",
      "display_name": "Python 3"
    },
    "language_info": {
      "name": "python"
    },
    "accelerator": "GPU"
  },
  "cells": [
    {
      "cell_type": "markdown",
      "source": [
        "# Imports"
      ],
      "metadata": {
        "id": "lvKS66S_0KFW"
      }
    },
    {
      "cell_type": "code",
      "execution_count": 17,
      "metadata": {
        "id": "4QWuObgh0DNj"
      },
      "outputs": [],
      "source": [
        "import tensorflow as tf\n",
        "import tensorflow_datasets as tfds\n",
        "\n",
        "import numpy as np\n",
        "import matplotlib.pyplot as plt"
      ]
    },
    {
      "cell_type": "markdown",
      "source": [
        "# Prepare the Dataset"
      ],
      "metadata": {
        "id": "FxFGz39Q0XaV"
      }
    },
    {
      "cell_type": "code",
      "source": [
        "def map_image(image,label):\n",
        "  image = tf.cast(image,dtype = tf.float32)\n",
        "  image = image / 255.0\n",
        "  image = tf.reshape(image,shape = (784,))\n",
        "\n",
        "  return image,image"
      ],
      "metadata": {
        "id": "RTixHcDE0WJf"
      },
      "execution_count": 18,
      "outputs": []
    },
    {
      "cell_type": "code",
      "source": [
        "# Load the train and test sets from TFDS\n",
        "BATCH_SIZE = 128\n",
        "SHUFFLE_BUFFER_SIZE = 1024\n",
        "\n",
        "train_dataset = tfds.load('mnist',as_supervised = True,split = 'train')\n",
        "train_dataset = train_dataset.map(map_image)\n",
        "train_dataset = train_dataset.shuffle(SHUFFLE_BUFFER_SIZE).batch(BATCH_SIZE).repeat()\n",
        "\n",
        "test_dataset = tfds.load('mnist',as_supervised = True,split = 'test')\n",
        "test_dataset = test_dataset.map(map_image)\n",
        "test_dataset = test_dataset.batch(BATCH_SIZE).repeat()"
      ],
      "metadata": {
        "id": "HamSmDA00oG_"
      },
      "execution_count": 19,
      "outputs": []
    },
    {
      "cell_type": "markdown",
      "source": [
        "# Build the Model"
      ],
      "metadata": {
        "id": "cEgDsvqw11qZ"
      }
    },
    {
      "cell_type": "code",
      "source": [
        "def deep_autoencoder():\n",
        "  # Build encoder and decoder layer using Dense layer\n",
        "  encoder = tf.keras.layers.Dense(units=128,activation = 'relu')(inputs)\n",
        "  encoder = tf.keras.layers.Dense(units=64,activation = 'relu')(encoder)\n",
        "  encoder = tf.keras.layers.Dense(units=32,activation = 'relu')(encoder)\n",
        "\n",
        "  decoder = tf.keras.layers.Dense(units=64,activation = 'relu')(encoder)\n",
        "  decoder = tf.keras.layers.Dense(units=128,activation = 'relu')(decoder)\n",
        "  decoder = tf.keras.layers.Dense(units=784,activation = 'sigmoid')(decoder)\n",
        "\n",
        "  return encoder,decoder\n",
        "\n",
        "# Set the input tensor\n",
        "inputs = tf.keras.layers.Input(shape = (784,))\n",
        "\n",
        "# Get the encoder and decoder output\n",
        "deep_encoder_output,deep_autoencoder_output = deep_autoencoder()\n",
        "\n",
        "# Setup the encoder will visualize its output later\n",
        "deep_encoder_model = tf.keras.Model(\n",
        "    inputs = inputs,\n",
        "    outputs = deep_encoder_output\n",
        ")\n",
        "\n",
        "# Setup the autoencoder\n",
        "deep_autoencoder_model = tf.keras.Model(\n",
        "    inputs = inputs,\n",
        "    outputs = deep_autoencoder_output\n",
        ")"
      ],
      "metadata": {
        "id": "d9qvuShX1ojp"
      },
      "execution_count": 20,
      "outputs": []
    },
    {
      "cell_type": "markdown",
      "source": [
        "# Compile and Train the Model"
      ],
      "metadata": {
        "id": "-TQv45wtBq2j"
      }
    },
    {
      "cell_type": "code",
      "source": [
        "train_steps = 60000 // BATCH_SIZE\n",
        "\n",
        "deep_autoencoder_model.compile(\n",
        "    optimizer = tf.keras.optimizers.Adam(),\n",
        "    loss = 'binary_crossentropy'\n",
        ")\n",
        "\n",
        "deep_auto_history = deep_autoencoder_model.fit(\n",
        "    train_dataset,\n",
        "    steps_per_epoch = train_steps,\n",
        "    epochs = 5\n",
        ")"
      ],
      "metadata": {
        "colab": {
          "base_uri": "https://localhost:8080/"
        },
        "id": "RA0f8i1mBqdA",
        "outputId": "5eb27e3e-2268-4596-a76f-2231238d7806"
      },
      "execution_count": 21,
      "outputs": [
        {
          "output_type": "stream",
          "name": "stdout",
          "text": [
            "Epoch 1/5\n",
            "468/468 [==============================] - 8s 13ms/step - loss: 0.2095\n",
            "Epoch 2/5\n",
            "468/468 [==============================] - 4s 8ms/step - loss: 0.1344\n",
            "Epoch 3/5\n",
            "468/468 [==============================] - 3s 7ms/step - loss: 0.1206\n",
            "Epoch 4/5\n",
            "468/468 [==============================] - 3s 7ms/step - loss: 0.1135\n",
            "Epoch 5/5\n",
            "468/468 [==============================] - 4s 9ms/step - loss: 0.1088\n"
          ]
        }
      ]
    },
    {
      "cell_type": "code",
      "source": [
        "def display_one_row(disp_images,offset,shape = (28,28)):\n",
        "  for idx,test_image in enumerate(disp_images):\n",
        "    plt.subplot(3,10,offset + idx + 1)\n",
        "    plt.xticks([])\n",
        "    plt.yticks([])\n",
        "    test_image = np.reshape(test_image,shape)\n",
        "    plt.imshow(test_image,cmap = 'gray')\n",
        "\n",
        "def display_results(disp_input_images,disp_encoded,disp_predicted,enc_shape = (8,4)):\n",
        "  plt.figure(figsize = (15,5))\n",
        "  display_one_row(disp_input_images,0,shape = (28,28,))\n",
        "  display_one_row(disp_encoded,10,shape = enc_shape)\n",
        "  display_one_row(disp_predicted,20,shape = (28,28,))"
      ],
      "metadata": {
        "id": "zjY0rI0oCMbi"
      },
      "execution_count": 22,
      "outputs": []
    },
    {
      "cell_type": "code",
      "source": [
        "# Take 1 batch of the dataset\n",
        "test_dataset = test_dataset.take(1)\n",
        "\n",
        "# Take the input iamges and put them in a list\n",
        "output_samples = []\n",
        "for input_images,image in tfds.as_numpy(test_dataset):\n",
        "  output_samples = input_images\n",
        "\n",
        "# Pick 10 random number to be used as indices to the list above\n",
        "idxs = np.random.choice(BATCH_SIZE,size = 10)\n",
        "\n",
        "# get the encoder output\n",
        "encoded_predicted = deep_encoder_model.predict(test_dataset)\n",
        "\n",
        "# get a prediction for the test batch\n",
        "deep_predicted = deep_autoencoder_model.predict(test_dataset)\n",
        "\n",
        "# Display the 10 samples, encodings and decoded values\n",
        "display_results(output_samples[idxs],\n",
        "                encoded_predicted[idxs],\n",
        "                deep_predicted[idxs])"
      ],
      "metadata": {
        "colab": {
          "base_uri": "https://localhost:8080/",
          "height": 443
        },
        "id": "KFp1W2PLDHuE",
        "outputId": "2410eb77-b4d2-447b-8a3a-14c2e42e0008"
      },
      "execution_count": 25,
      "outputs": [
        {
          "output_type": "stream",
          "name": "stdout",
          "text": [
            "1/1 [==============================] - 0s 103ms/step\n",
            "1/1 [==============================] - 0s 108ms/step\n"
          ]
        },
        {
          "output_type": "display_data",
          "data": {
            "text/plain": [
              "<Figure size 1500x500 with 30 Axes>"
            ],
            "image/png": "[encoded data removed]"
          },
          "metadata": {}
        }
      ]
    }
  ]
}