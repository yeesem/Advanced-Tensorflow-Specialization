{
  "nbformat": 4,
  "nbformat_minor": 0,
  "metadata": {
    "colab": {
      "provenance": [],
      "gpuType": "T4",
      "authorship_tag": "ABX9TyOuBCRIHO5jlcZxYQxZ1NNp"
    },
    "kernelspec": {
      "name": "python3",
      "display_name": "Python 3"
    },
    "language_info": {
      "name": "python"
    },
    "accelerator": "GPU",
    "widgets": {
      "application/vnd.jupyter.widget-state+json": {
        "ac59b1d2f0a9467db00310efa7ca9c5b": {
          "model_module": "@jupyter-widgets/controls",
          "model_name": "HBoxModel",
          "model_module_version": "1.5.0",
          "state": {
            "_dom_classes": [],
            "_model_module": "@jupyter-widgets/controls",
            "_model_module_version": "1.5.0",
            "_model_name": "HBoxModel",
            "_view_count": null,
            "_view_module": "@jupyter-widgets/controls",
            "_view_module_version": "1.5.0",
            "_view_name": "HBoxView",
            "box_style": "",
            "children": [
              "IPY_MODEL_aff2c5d248d143589dcf3db8a69cc463",
              "IPY_MODEL_d657f6b18539431d8b1fe841d5f97159",
              "IPY_MODEL_a116c7c15f184e8593128325f193ef43"
            ],
            "layout": "IPY_MODEL_e5088bf4782a4fad9f1d44f1e7d79929"
          }
        },
        "aff2c5d248d143589dcf3db8a69cc463": {
          "model_module": "@jupyter-widgets/controls",
          "model_name": "HTMLModel",
          "model_module_version": "1.5.0",
          "state": {
            "_dom_classes": [],
            "_model_module": "@jupyter-widgets/controls",
            "_model_module_version": "1.5.0",
            "_model_name": "HTMLModel",
            "_view_count": null,
            "_view_module": "@jupyter-widgets/controls",
            "_view_module_version": "1.5.0",
            "_view_name": "HTMLView",
            "description": "",
            "description_tooltip": null,
            "layout": "IPY_MODEL_9bee7415d2d541b7b21968cf08f07ede",
            "placeholder": "​",
            "style": "IPY_MODEL_81c459ad9b754b2db0637dbc50a4e9c4",
            "value": "Dl Completed...: 100%"
          }
        },
        "d657f6b18539431d8b1fe841d5f97159": {
          "model_module": "@jupyter-widgets/controls",
          "model_name": "FloatProgressModel",
          "model_module_version": "1.5.0",
          "state": {
            "_dom_classes": [],
            "_model_module": "@jupyter-widgets/controls",
            "_model_module_version": "1.5.0",
            "_model_name": "FloatProgressModel",
            "_view_count": null,
            "_view_module": "@jupyter-widgets/controls",
            "_view_module_version": "1.5.0",
            "_view_name": "ProgressView",
            "bar_style": "success",
            "description": "",
            "description_tooltip": null,
            "layout": "IPY_MODEL_1712f9bce0994d7284e47267ea739d0b",
            "max": 5,
            "min": 0,
            "orientation": "horizontal",
            "style": "IPY_MODEL_611d80e0224443ddbea18c6069e04232",
            "value": 5
          }
        },
        "a116c7c15f184e8593128325f193ef43": {
          "model_module": "@jupyter-widgets/controls",
          "model_name": "HTMLModel",
          "model_module_version": "1.5.0",
          "state": {
            "_dom_classes": [],
            "_model_module": "@jupyter-widgets/controls",
            "_model_module_version": "1.5.0",
            "_model_name": "HTMLModel",
            "_view_count": null,
            "_view_module": "@jupyter-widgets/controls",
            "_view_module_version": "1.5.0",
            "_view_name": "HTMLView",
            "description": "",
            "description_tooltip": null,
            "layout": "IPY_MODEL_ef45f14ae08e46528b46a2bce6db230d",
            "placeholder": "​",
            "style": "IPY_MODEL_b21e8aa9875443d2ac2dac164edf1b83",
            "value": " 5/5 [00:01&lt;00:00,  3.71 file/s]"
          }
        },
        "e5088bf4782a4fad9f1d44f1e7d79929": {
          "model_module": "@jupyter-widgets/base",
          "model_name": "LayoutModel",
          "model_module_version": "1.2.0",
          "state": {
            "_model_module": "@jupyter-widgets/base",
            "_model_module_version": "1.2.0",
            "_model_name": "LayoutModel",
            "_view_count": null,
            "_view_module": "@jupyter-widgets/base",
            "_view_module_version": "1.2.0",
            "_view_name": "LayoutView",
            "align_content": null,
            "align_items": null,
            "align_self": null,
            "border": null,
            "bottom": null,
            "display": null,
            "flex": null,
            "flex_flow": null,
            "grid_area": null,
            "grid_auto_columns": null,
            "grid_auto_flow": null,
            "grid_auto_rows": null,
            "grid_column": null,
            "grid_gap": null,
            "grid_row": null,
            "grid_template_areas": null,
            "grid_template_columns": null,
            "grid_template_rows": null,
            "height": null,
            "justify_content": null,
            "justify_items": null,
            "left": null,
            "margin": null,
            "max_height": null,
            "max_width": null,
            "min_height": null,
            "min_width": null,
            "object_fit": null,
            "object_position": null,
            "order": null,
            "overflow": null,
            "overflow_x": null,
            "overflow_y": null,
            "padding": null,
            "right": null,
            "top": null,
            "visibility": null,
            "width": null
          }
        },
        "9bee7415d2d541b7b21968cf08f07ede": {
          "model_module": "@jupyter-widgets/base",
          "model_name": "LayoutModel",
          "model_module_version": "1.2.0",
          "state": {
            "_model_module": "@jupyter-widgets/base",
            "_model_module_version": "1.2.0",
            "_model_name": "LayoutModel",
            "_view_count": null,
            "_view_module": "@jupyter-widgets/base",
            "_view_module_version": "1.2.0",
            "_view_name": "LayoutView",
            "align_content": null,
            "align_items": null,
            "align_self": null,
            "border": null,
            "bottom": null,
            "display": null,
            "flex": null,
            "flex_flow": null,
            "grid_area": null,
            "grid_auto_columns": null,
            "grid_auto_flow": null,
            "grid_auto_rows": null,
            "grid_column": null,
            "grid_gap": null,
            "grid_row": null,
            "grid_template_areas": null,
            "grid_template_columns": null,
            "grid_template_rows": null,
            "height": null,
            "justify_content": null,
            "justify_items": null,
            "left": null,
            "margin": null,
            "max_height": null,
            "max_width": null,
            "min_height": null,
            "min_width": null,
            "object_fit": null,
            "object_position": null,
            "order": null,
            "overflow": null,
            "overflow_x": null,
            "overflow_y": null,
            "padding": null,
            "right": null,
            "top": null,
            "visibility": null,
            "width": null
          }
        },
        "81c459ad9b754b2db0637dbc50a4e9c4": {
          "model_module": "@jupyter-widgets/controls",
          "model_name": "DescriptionStyleModel",
          "model_module_version": "1.5.0",
          "state": {
            "_model_module": "@jupyter-widgets/controls",
            "_model_module_version": "1.5.0",
            "_model_name": "DescriptionStyleModel",
            "_view_count": null,
            "_view_module": "@jupyter-widgets/base",
            "_view_module_version": "1.2.0",
            "_view_name": "StyleView",
            "description_width": ""
          }
        },
        "1712f9bce0994d7284e47267ea739d0b": {
          "model_module": "@jupyter-widgets/base",
          "model_name": "LayoutModel",
          "model_module_version": "1.2.0",
          "state": {
            "_model_module": "@jupyter-widgets/base",
            "_model_module_version": "1.2.0",
            "_model_name": "LayoutModel",
            "_view_count": null,
            "_view_module": "@jupyter-widgets/base",
            "_view_module_version": "1.2.0",
            "_view_name": "LayoutView",
            "align_content": null,
            "align_items": null,
            "align_self": null,
            "border": null,
            "bottom": null,
            "display": null,
            "flex": null,
            "flex_flow": null,
            "grid_area": null,
            "grid_auto_columns": null,
            "grid_auto_flow": null,
            "grid_auto_rows": null,
            "grid_column": null,
            "grid_gap": null,
            "grid_row": null,
            "grid_template_areas": null,
            "grid_template_columns": null,
            "grid_template_rows": null,
            "height": null,
            "justify_content": null,
            "justify_items": null,
            "left": null,
            "margin": null,
            "max_height": null,
            "max_width": null,
            "min_height": null,
            "min_width": null,
            "object_fit": null,
            "object_position": null,
            "order": null,
            "overflow": null,
            "overflow_x": null,
            "overflow_y": null,
            "padding": null,
            "right": null,
            "top": null,
            "visibility": null,
            "width": null
          }
        },
        "611d80e0224443ddbea18c6069e04232": {
          "model_module": "@jupyter-widgets/controls",
          "model_name": "ProgressStyleModel",
          "model_module_version": "1.5.0",
          "state": {
            "_model_module": "@jupyter-widgets/controls",
            "_model_module_version": "1.5.0",
            "_model_name": "ProgressStyleModel",
            "_view_count": null,
            "_view_module": "@jupyter-widgets/base",
            "_view_module_version": "1.2.0",
            "_view_name": "StyleView",
            "bar_color": null,
            "description_width": ""
          }
        },
        "ef45f14ae08e46528b46a2bce6db230d": {
          "model_module": "@jupyter-widgets/base",
          "model_name": "LayoutModel",
          "model_module_version": "1.2.0",
          "state": {
            "_model_module": "@jupyter-widgets/base",
            "_model_module_version": "1.2.0",
            "_model_name": "LayoutModel",
            "_view_count": null,
            "_view_module": "@jupyter-widgets/base",
            "_view_module_version": "1.2.0",
            "_view_name": "LayoutView",
            "align_content": null,
            "align_items": null,
            "align_self": null,
            "border": null,
            "bottom": null,
            "display": null,
            "flex": null,
            "flex_flow": null,
            "grid_area": null,
            "grid_auto_columns": null,
            "grid_auto_flow": null,
            "grid_auto_rows": null,
            "grid_column": null,
            "grid_gap": null,
            "grid_row": null,
            "grid_template_areas": null,
            "grid_template_columns": null,
            "grid_template_rows": null,
            "height": null,
            "justify_content": null,
            "justify_items": null,
            "left": null,
            "margin": null,
            "max_height": null,
            "max_width": null,
            "min_height": null,
            "min_width": null,
            "object_fit": null,
            "object_position": null,
            "order": null,
            "overflow": null,
            "overflow_x": null,
            "overflow_y": null,
            "padding": null,
            "right": null,
            "top": null,
            "visibility": null,
            "width": null
          }
        },
        "b21e8aa9875443d2ac2dac164edf1b83": {
          "model_module": "@jupyter-widgets/controls",
          "model_name": "DescriptionStyleModel",
          "model_module_version": "1.5.0",
          "state": {
            "_model_module": "@jupyter-widgets/controls",
            "_model_module_version": "1.5.0",
            "_model_name": "DescriptionStyleModel",
            "_view_count": null,
            "_view_module": "@jupyter-widgets/base",
            "_view_module_version": "1.2.0",
            "_view_name": "StyleView",
            "description_width": ""
          }
        }
      }
    }
  },
  "cells": [
    {
      "cell_type": "markdown",
      "source": [
        "# Imports"
      ],
      "metadata": {
        "id": "lvKS66S_0KFW"
      }
    },
    {
      "cell_type": "code",
      "execution_count": 1,
      "metadata": {
        "id": "4QWuObgh0DNj"
      },
      "outputs": [],
      "source": [
        "import tensorflow as tf\n",
        "import tensorflow_datasets as tfds\n",
        "\n",
        "import numpy as np\n",
        "import matplotlib.pyplot as plt"
      ]
    },
    {
      "cell_type": "markdown",
      "source": [
        "# Prepare the Dataset"
      ],
      "metadata": {
        "id": "FxFGz39Q0XaV"
      }
    },
    {
      "cell_type": "code",
      "source": [
        "def map_image(image,label):\n",
        "  image = tf.cast(image,dtype = tf.float32)\n",
        "  image = image / 255.0\n",
        "  image = tf.reshape(image,shape = (784,))\n",
        "\n",
        "  return image,image"
      ],
      "metadata": {
        "id": "RTixHcDE0WJf"
      },
      "execution_count": 2,
      "outputs": []
    },
    {
      "cell_type": "code",
      "source": [
        "# Load the train and test sets from TFDS\n",
        "BATCH_SIZE = 128\n",
        "SHUFFLE_BUFFER_SIZE = 1024\n",
        "\n",
        "train_dataset = tfds.load('mnist',as_supervised = True,split = 'train')\n",
        "train_dataset = train_dataset.map(map_image)\n",
        "train_dataset = train_dataset.shuffle(SHUFFLE_BUFFER_SIZE).batch(BATCH_SIZE).repeat()\n",
        "\n",
        "test_dataset = tfds.load('mnist',as_supervised = True,split = 'test')\n",
        "test_dataset = test_dataset.map(map_image)\n",
        "test_dataset = test_dataset.batch(BATCH_SIZE).repeat()"
      ],
      "metadata": {
        "colab": {
          "base_uri": "https://localhost:8080/",
          "height": 85,
          "referenced_widgets": [
            "ac59b1d2f0a9467db00310efa7ca9c5b",
            "aff2c5d248d143589dcf3db8a69cc463",
            "d657f6b18539431d8b1fe841d5f97159",
            "a116c7c15f184e8593128325f193ef43",
            "e5088bf4782a4fad9f1d44f1e7d79929",
            "9bee7415d2d541b7b21968cf08f07ede",
            "81c459ad9b754b2db0637dbc50a4e9c4",
            "1712f9bce0994d7284e47267ea739d0b",
            "611d80e0224443ddbea18c6069e04232",
            "ef45f14ae08e46528b46a2bce6db230d",
            "b21e8aa9875443d2ac2dac164edf1b83"
          ]
        },
        "id": "HamSmDA00oG_",
        "outputId": "def3e0bf-15cc-4c98-f521-9ee8be77cb92"
      },
      "execution_count": 3,
      "outputs": [
        {
          "output_type": "stream",
          "name": "stdout",
          "text": [
            "Downloading and preparing dataset 11.06 MiB (download: 11.06 MiB, generated: 21.00 MiB, total: 32.06 MiB) to /root/tensorflow_datasets/mnist/3.0.1...\n"
          ]
        },
        {
          "output_type": "display_data",
          "data": {
            "text/plain": [
              "Dl Completed...:   0%|          | 0/5 [00:00<?, ? file/s]"
            ],
            "application/vnd.jupyter.widget-view+json": {
              "version_major": 2,
              "version_minor": 0,
              "model_id": "ac59b1d2f0a9467db00310efa7ca9c5b"
            }
          },
          "metadata": {}
        },
        {
          "output_type": "stream",
          "name": "stdout",
          "text": [
            "Dataset mnist downloaded and prepared to /root/tensorflow_datasets/mnist/3.0.1. Subsequent calls will reuse this data.\n"
          ]
        }
      ]
    },
    {
      "cell_type": "markdown",
      "source": [
        "# Build the Model"
      ],
      "metadata": {
        "id": "cEgDsvqw11qZ"
      }
    },
    {
      "cell_type": "code",
      "source": [
        "def deep_autoencoder():\n",
        "  # Build encoder and decoder layer using Dense layer\n",
        "  encoder = tf.keras.layers.Dense(units=128,activation = 'relu')(inputs)\n",
        "  encoder = tf.keras.layers.Dense(units=64,activation = 'relu')(encoder)\n",
        "  encoder = tf.keras.layers.Dense(units=32,activation = 'relu')(encoder)\n",
        "\n",
        "  decoder = tf.keras.layers.Dense(units=64,activation = 'relu')(encoder)\n",
        "  decoder = tf.keras.layers.Dense(units=128,activation = 'relu')(decoder)\n",
        "  decoder = tf.keras.layers.Dense(units=784,activation = 'sigmoid')(decoder)\n",
        "\n",
        "  return encoder,decoder\n",
        "\n",
        "# Set the input tensor\n",
        "inputs = tf.keras.layers.Input(shape = (784,))\n",
        "\n",
        "# Get the encoder and decoder output\n",
        "deep_encoder_output,deep_autoencoder_output = deep_autoencoder()\n",
        "\n",
        "# Setup the encoder will visualize its output later\n",
        "deep_encoder_model = tf.keras.Model(\n",
        "    inputs = inputs,\n",
        "    outputs = deep_encoder_output\n",
        ")\n",
        "\n",
        "# Setup the autoencoder\n",
        "deep_autoencoder_model = tf.keras.Model(\n",
        "    inputs = inputs,\n",
        "    outputs = deep_autoencoder_output\n",
        ")"
      ],
      "metadata": {
        "id": "d9qvuShX1ojp"
      },
      "execution_count": 4,
      "outputs": []
    },
    {
      "cell_type": "markdown",
      "source": [
        "# Compile and Train the Model"
      ],
      "metadata": {
        "id": "-TQv45wtBq2j"
      }
    },
    {
      "cell_type": "code",
      "source": [
        "train_steps = 60000 // BATCH_SIZE\n",
        "\n",
        "deep_autoencoder_model.compile(\n",
        "    optimizer = tf.keras.optimizers.Adam(),\n",
        "    loss = 'binary_crossentropy'\n",
        ")\n",
        "\n",
        "deep_auto_history = deep_autoencoder_model.fit(\n",
        "    train_dataset,\n",
        "    steps_per_epoch = train_steps,\n",
        "    epochs = 50\n",
        ")"
      ],
      "metadata": {
        "colab": {
          "base_uri": "https://localhost:8080/"
        },
        "id": "RA0f8i1mBqdA",
        "outputId": "ef67fa67-e8cd-410c-e141-c20d8ae77e01"
      },
      "execution_count": 5,
      "outputs": [
        {
          "output_type": "stream",
          "name": "stdout",
          "text": [
            "Epoch 1/50\n",
            "468/468 [==============================] - 17s 31ms/step - loss: 0.2005\n",
            "Epoch 2/50\n",
            "468/468 [==============================] - 11s 23ms/step - loss: 0.1315\n",
            "Epoch 3/50\n",
            "468/468 [==============================] - 8s 17ms/step - loss: 0.1190\n",
            "Epoch 4/50\n",
            "468/468 [==============================] - 6s 13ms/step - loss: 0.1112\n",
            "Epoch 5/50\n",
            "468/468 [==============================] - 7s 16ms/step - loss: 0.1065\n",
            "Epoch 6/50\n",
            "468/468 [==============================] - 6s 13ms/step - loss: 0.1026\n",
            "Epoch 7/50\n",
            "468/468 [==============================] - 7s 16ms/step - loss: 0.0998\n",
            "Epoch 8/50\n",
            "468/468 [==============================] - 6s 13ms/step - loss: 0.0977\n",
            "Epoch 9/50\n",
            "468/468 [==============================] - 7s 14ms/step - loss: 0.0963\n",
            "Epoch 10/50\n",
            "468/468 [==============================] - 7s 14ms/step - loss: 0.0952\n",
            "Epoch 11/50\n",
            "468/468 [==============================] - 7s 14ms/step - loss: 0.0942\n",
            "Epoch 12/50\n",
            "468/468 [==============================] - 7s 15ms/step - loss: 0.0935\n",
            "Epoch 13/50\n",
            "468/468 [==============================] - 6s 13ms/step - loss: 0.0926\n",
            "Epoch 14/50\n",
            "468/468 [==============================] - 7s 15ms/step - loss: 0.0918\n",
            "Epoch 15/50\n",
            "468/468 [==============================] - 6s 13ms/step - loss: 0.0911\n",
            "Epoch 16/50\n",
            "468/468 [==============================] - 7s 15ms/step - loss: 0.0905\n",
            "Epoch 17/50\n",
            "468/468 [==============================] - 7s 15ms/step - loss: 0.0900\n",
            "Epoch 18/50\n",
            "468/468 [==============================] - 7s 15ms/step - loss: 0.0895\n",
            "Epoch 19/50\n",
            "468/468 [==============================] - 6s 13ms/step - loss: 0.0891\n",
            "Epoch 20/50\n",
            "468/468 [==============================] - 7s 15ms/step - loss: 0.0887\n",
            "Epoch 21/50\n",
            "468/468 [==============================] - 6s 12ms/step - loss: 0.0884\n",
            "Epoch 22/50\n",
            "468/468 [==============================] - 7s 16ms/step - loss: 0.0881\n",
            "Epoch 23/50\n",
            "468/468 [==============================] - 6s 13ms/step - loss: 0.0878\n",
            "Epoch 24/50\n",
            "468/468 [==============================] - 7s 15ms/step - loss: 0.0875\n",
            "Epoch 25/50\n",
            "468/468 [==============================] - 6s 12ms/step - loss: 0.0872\n",
            "Epoch 26/50\n",
            "468/468 [==============================] - 7s 16ms/step - loss: 0.0870\n",
            "Epoch 27/50\n",
            "468/468 [==============================] - 6s 14ms/step - loss: 0.0868\n",
            "Epoch 28/50\n",
            "468/468 [==============================] - 7s 16ms/step - loss: 0.0867\n",
            "Epoch 29/50\n",
            "468/468 [==============================] - 6s 13ms/step - loss: 0.0864\n",
            "Epoch 30/50\n",
            "468/468 [==============================] - 7s 16ms/step - loss: 0.0863\n",
            "Epoch 31/50\n",
            "468/468 [==============================] - 6s 13ms/step - loss: 0.0861\n",
            "Epoch 32/50\n",
            "468/468 [==============================] - 7s 16ms/step - loss: 0.0859\n",
            "Epoch 33/50\n",
            "468/468 [==============================] - 6s 13ms/step - loss: 0.0859\n",
            "Epoch 34/50\n",
            "468/468 [==============================] - 8s 16ms/step - loss: 0.0857\n",
            "Epoch 35/50\n",
            "468/468 [==============================] - 6s 12ms/step - loss: 0.0856\n",
            "Epoch 36/50\n",
            "468/468 [==============================] - 9s 18ms/step - loss: 0.0854\n",
            "Epoch 37/50\n",
            "468/468 [==============================] - 9s 20ms/step - loss: 0.0853\n",
            "Epoch 38/50\n",
            "468/468 [==============================] - 8s 18ms/step - loss: 0.0852\n",
            "Epoch 39/50\n",
            "468/468 [==============================] - 7s 15ms/step - loss: 0.0852\n",
            "Epoch 40/50\n",
            "468/468 [==============================] - 6s 13ms/step - loss: 0.0850\n",
            "Epoch 41/50\n",
            "468/468 [==============================] - 7s 15ms/step - loss: 0.0850\n",
            "Epoch 42/50\n",
            "468/468 [==============================] - 6s 13ms/step - loss: 0.0849\n",
            "Epoch 43/50\n",
            "468/468 [==============================] - 7s 15ms/step - loss: 0.0848\n",
            "Epoch 44/50\n",
            "468/468 [==============================] - 6s 13ms/step - loss: 0.0847\n",
            "Epoch 45/50\n",
            "468/468 [==============================] - 7s 14ms/step - loss: 0.0847\n",
            "Epoch 46/50\n",
            "468/468 [==============================] - 7s 14ms/step - loss: 0.0846\n",
            "Epoch 47/50\n",
            "468/468 [==============================] - 6s 14ms/step - loss: 0.0845\n",
            "Epoch 48/50\n",
            "468/468 [==============================] - 7s 15ms/step - loss: 0.0844\n",
            "Epoch 49/50\n",
            "468/468 [==============================] - 6s 13ms/step - loss: 0.0844\n",
            "Epoch 50/50\n",
            "468/468 [==============================] - 7s 15ms/step - loss: 0.0843\n"
          ]
        }
      ]
    },
    {
      "cell_type": "code",
      "source": [
        "def display_one_row(disp_images,offset,shape = (28,28)):\n",
        "  for idx,test_image in enumerate(disp_images):\n",
        "    plt.subplot(3,10,offset + idx + 1)\n",
        "    plt.xticks([])\n",
        "    plt.yticks([])\n",
        "    test_image = np.reshape(test_image,shape)\n",
        "    plt.imshow(test_image,cmap = 'gray')\n",
        "\n",
        "def display_results(disp_input_images,disp_encoded,disp_predicted,enc_shape = (8,4)):\n",
        "  plt.figure(figsize = (15,5))\n",
        "  display_one_row(disp_input_images,0,shape = (28,28,))\n",
        "  display_one_row(disp_encoded,10,shape = enc_shape)\n",
        "  display_one_row(disp_predicted,20,shape = (28,28,))"
      ],
      "metadata": {
        "id": "zjY0rI0oCMbi"
      },
      "execution_count": 6,
      "outputs": []
    },
    {
      "cell_type": "code",
      "source": [
        "# Take 1 batch of the dataset\n",
        "test_dataset = test_dataset.take(1)\n",
        "\n",
        "# Take the input iamges and put them in a list\n",
        "output_samples = []\n",
        "for input_images,image in tfds.as_numpy(test_dataset):\n",
        "  output_samples = input_images\n",
        "\n",
        "# Pick 10 random number to be used as indices to the list above\n",
        "idxs = np.random.choice(BATCH_SIZE,size = 10)\n",
        "\n",
        "# get the encoder output\n",
        "encoded_predicted = deep_encoder_model.predict(test_dataset)\n",
        "\n",
        "# get a prediction for the test batch\n",
        "deep_predicted = deep_autoencoder_model.predict(test_dataset)\n",
        "\n",
        "# Display the 10 samples, encodings and decoded values\n",
        "display_results(output_samples[idxs],\n",
        "                encoded_predicted[idxs],\n",
        "                deep_predicted[idxs])"
      ],
      "metadata": {
        "colab": {
          "base_uri": "https://localhost:8080/",
          "height": 443
        },
        "id": "KFp1W2PLDHuE",
        "outputId": "888688e2-635b-4bdf-89fe-d6df96f262fd"
      },
      "execution_count": 7,
      "outputs": [
        {
          "output_type": "stream",
          "name": "stdout",
          "text": [
            "1/1 [==============================] - 0s 145ms/step\n",
            "1/1 [==============================] - 0s 127ms/step\n"
          ]
        },
        {
          "output_type": "display_data",
          "data": {
            "text/plain": [
              "<Figure size 1500x500 with 30 Axes>"
            ],
            "image/png": "[encoded data removed]"
          },
          "metadata": {}
        }
      ]
    }
  ]
}