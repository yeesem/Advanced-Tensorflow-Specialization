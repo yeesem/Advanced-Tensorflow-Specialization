{
  "nbformat": 4,
  "nbformat_minor": 0,
  "metadata": {
    "colab": {
      "provenance": [],
      "authorship_tag": "ABX9TyN0nDwSAXw10+/4+FLB9UsH",
      "include_colab_link": true
    },
    "kernelspec": {
      "name": "python3",
      "display_name": "Python 3"
    },
    "language_info": {
      "name": "python"
    }
  },
  "cells": [
    {
      "cell_type": "markdown",
      "metadata": {
        "id": "view-in-github",
        "colab_type": "text"
      },
      "source": [
        "<a href=\"https://colab.research.google.com/github/yeesem/Advanced-Tensorflow-Specialization/blob/main/Neural_Style_Transfer.ipynb\" target=\"_parent\"><img src=\"https://colab.research.google.com/assets/colab-badge.svg\" alt=\"Open In Colab\"/></a>"
      ]
    },
    {
      "cell_type": "markdown",
      "source": [
        "# Imports"
      ],
      "metadata": {
        "id": "hHcaIQdcgRkX"
      }
    },
    {
      "cell_type": "code",
      "execution_count": null,
      "metadata": {
        "id": "XehdaNi2f1La"
      },
      "outputs": [],
      "source": [
        "import tensorflow as tf\n",
        "import matplotlib.pyplot as plt\n",
        "import numpy as np\n",
        "from keras import backend as K\n",
        "\n",
        "from imageio import mimsave\n",
        "from IPython.display import display as display_fn\n",
        "from IPython.display import Image, clear_output"
      ]
    },
    {
      "cell_type": "markdown",
      "source": [
        "# Utiities"
      ],
      "metadata": {
        "id": "nTSO6rmMgUI7"
      }
    },
    {
      "cell_type": "code",
      "source": [
        "def tensor_to_image(tensor):\n",
        "  # tf.shape(tensor) returns the shape of the tensor as a TensorFlow tensor.\n",
        "  # For example, if the input tensor has a shape of (1, 64, 64, 3),\n",
        "  # tensor_shape will store this shape.\n",
        "  tensor_shape = tf.shape(tensor)\n",
        "  # tf.shape(tensor_shape) returns the shape of tensor_shape. Since tensor_shape\n",
        "  # itself is a tensor, tf.shape(tensor_shape) returns its shape, which will be a\n",
        "  # single number indicating the number of dimensions in tensor_shape. Typically,\n",
        "  # number_elem_shape will be [4] for a 4D tensor shape.\n",
        "  number_elem_shape = tf.shape(tensor_shape)\n",
        "  # This line checks if the number of dimensions in tensor is greater than 3.\n",
        "  # For most image data tensors used in deep learning, the shape would be either\n",
        "  # 3D (height, width, channels) or 4D (batch, height, width, channels).\n",
        "  if number_elem_shape > 3:\n",
        "    assert tensor_shape[0] == 1\n",
        "    # If the tensor has more than 3 dimensions, it assumes that the first dimension\n",
        "    # is the batch size and checks if it is 1 (i.e., a single image). If this is true,\n",
        "    # it removes the batch dimension by setting tensor to tensor[0].\n",
        "    tensor = tensor[0]\n",
        "  return tf.keras.preprocessing.image.array_to_img(tensor)\n",
        "\n",
        "def load_img(path_to_img):\n",
        "  # max_dim is set to 512, which will be the maximum dimension (width or height) of\n",
        "  # the image after resizing.\n",
        "  max_dim = 512\n",
        "  # reads the image file from the given path.\n",
        "  image = tf.io.read_file(path_to_img)\n",
        "  # decodes the JPEG-encoded image to a tensor.\n",
        "  image = tf.image.decode_jpeg(image)\n",
        "  # This line converts the image tensor to tf.float32 data type, with pixel values\n",
        "  # scaled to the range [0, 1].\n",
        "  image = tf.image.convert_image_dtype(image,tf.float32)\n",
        "\n",
        "   # tf.shape(image)[:-1] gets the shape of the image excluding the last dimension\n",
        "   # (which represents the color channels). This results in a tensor representing the\n",
        "   # height and width of the image. tf.cast(tf.shape(image)[:-1], tf.float32) casts\n",
        "   # this shape tensor to tf.float32.\n",
        "  shape = tf.shape(image)[:-1]\n",
        "  shape = tf.cast(tf.shape(image)[:-1],tf.float32)\n",
        "  long_dim = max(shape)\n",
        "  scale = max_dim / long_dim\n",
        "\n",
        "  new_shape = tf.cast(shape * scale, tf.int32)\n",
        "\n",
        "  image = tf.image.resize(image,new_shape)\n",
        "  image = image[tf.newaxis,:]\n",
        "  image = tf.image.convert_image_dtype(image,tf.uint8)\n",
        "\n",
        "  return image"
      ],
      "metadata": {
        "id": "qCpoe7mtgPYe"
      },
      "execution_count": null,
      "outputs": []
    },
    {
      "cell_type": "markdown",
      "source": [
        "# Download Images"
      ],
      "metadata": {
        "id": "bcZ21N-xiIgI"
      }
    },
    {
      "cell_type": "code",
      "source": [
        "IMAGE_DIR = 'images'\n",
        "\n",
        "# create directory\n",
        "!mkdir {IMAGE_DIR}\n",
        "\n",
        "# download images to the directory you just created\n",
        "!wget -q -O ./images/cafe.jpg https://cdn.pixabay.com/photo/2018/07/14/15/27/cafe-3537801_1280.jpg\n",
        "!wget -q -O ./images/swan.jpg https://cdn.pixabay.com/photo/2017/02/28/23/00/swan-2107052_1280.jpg\n",
        "!wget -q -O ./images/tnj.jpg https://i.dawn.com/large/2019/10/5db6a03a4c7e3.jpg\n",
        "!wget -q -O ./images/rudolph.jpg https://cdn.pixabay.com/photo/2015/09/22/12/21/rudolph-951494_1280.jpg\n",
        "!wget -q -O ./images/dynamite.jpg https://cdn.pixabay.com/photo/2015/10/13/02/59/animals-985500_1280.jpg\n",
        "!wget -q -O ./images/painting.jpg https://storage.googleapis.com/download.tensorflow.org/example_images/Vassily_Kandinsky%2C_1913_-_Composition_7.jpg\n",
        "\n",
        "print(\"image files you can choose from: \")\n",
        "!ls images"
      ],
      "metadata": {
        "colab": {
          "base_uri": "https://localhost:8080/"
        },
        "id": "cCRK-Pm9iE6a",
        "outputId": "772fb216-eaa1-423e-8531-ee12b20d1109"
      },
      "execution_count": null,
      "outputs": [
        {
          "output_type": "stream",
          "name": "stdout",
          "text": [
            "image files you can choose from: \n",
            "cafe.jpg  dynamite.jpg\tpainting.jpg  rudolph.jpg  swan.jpg  tnj.jpg\n"
          ]
        }
      ]
    }
  ]
}