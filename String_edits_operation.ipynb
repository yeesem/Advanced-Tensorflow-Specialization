{
  "nbformat": 4,
  "nbformat_minor": 0,
  "metadata": {
    "colab": {
      "provenance": [],
      "authorship_tag": "ABX9TyNcIyWi05RmzLerD/890v61"
    },
    "kernelspec": {
      "name": "python3",
      "display_name": "Python 3"
    },
    "language_info": {
      "name": "python"
    }
  },
  "cells": [
    {
      "cell_type": "markdown",
      "source": [
        "# Data"
      ],
      "metadata": {
        "id": "NGbKPBI8TJvh"
      }
    },
    {
      "cell_type": "code",
      "execution_count": 1,
      "metadata": {
        "id": "yTgnsmGkSRIk"
      },
      "outputs": [],
      "source": [
        "# Data\n",
        "word = 'dearz'"
      ]
    },
    {
      "cell_type": "markdown",
      "source": [
        "# Split"
      ],
      "metadata": {
        "id": "av_t0ReaTMt1"
      }
    },
    {
      "cell_type": "code",
      "source": [
        "# Find all the ways, spliting a word into 2 parts\n",
        "# Splits with a loop\n",
        "split_a = []\n",
        "for i in range(len(word) + 1):\n",
        "  split_a.append([word[:i],word[i:]])\n",
        "print(\"split_a : \" ,split_a)\n",
        "\n",
        "print()\n",
        "\n",
        "for i in split_a:\n",
        "  print(i)"
      ],
      "metadata": {
        "colab": {
          "base_uri": "https://localhost:8080/"
        },
        "id": "IQLD2nB5SZ_d",
        "outputId": "612672ec-7911-4b6e-9ae6-10c9c1e6071b"
      },
      "execution_count": 5,
      "outputs": [
        {
          "output_type": "stream",
          "name": "stdout",
          "text": [
            "split_a :  [['', 'dearz'], ['d', 'earz'], ['de', 'arz'], ['dea', 'rz'], ['dear', 'z'], ['dearz', '']]\n",
            "\n",
            "['', 'dearz']\n",
            "['d', 'earz']\n",
            "['de', 'arz']\n",
            "['dea', 'rz']\n",
            "['dear', 'z']\n",
            "['dearz', '']\n"
          ]
        }
      ]
    },
    {
      "cell_type": "code",
      "source": [
        "# Same splits, done using a list comprehension\n",
        "split_b = [[word[:i],word[i:]] for i in range(len(word) + 1)]\n",
        "\n",
        "for i in split_b:\n",
        "  print(i)"
      ],
      "metadata": {
        "colab": {
          "base_uri": "https://localhost:8080/"
        },
        "id": "Jb4Yv0w3TYqa",
        "outputId": "604afd20-2fec-46ef-95b3-161951ee3298"
      },
      "execution_count": 6,
      "outputs": [
        {
          "output_type": "stream",
          "name": "stdout",
          "text": [
            "['', 'dearz']\n",
            "['d', 'earz']\n",
            "['de', 'arz']\n",
            "['dea', 'rz']\n",
            "['dear', 'z']\n",
            "['dearz', '']\n"
          ]
        }
      ]
    },
    {
      "cell_type": "markdown",
      "source": [
        "# Delete Edit"
      ],
      "metadata": {
        "id": "mTm_DzMQTuRp"
      }
    },
    {
      "cell_type": "code",
      "source": [
        "# Delete a letter from each string in the split list\n",
        "# Delete with a loop\n",
        "splits = split_a\n",
        "deletes = []\n",
        "\n",
        "print(\"Word : \",word)\n",
        "for L,R in splits:\n",
        "  if R:\n",
        "    print(L + R[1:], ' <-- delete', R[0])"
      ],
      "metadata": {
        "colab": {
          "base_uri": "https://localhost:8080/"
        },
        "id": "STHTkMKZTxRC",
        "outputId": "3402b8db-8ac4-47d7-a516-257eeb246ba8"
      },
      "execution_count": 7,
      "outputs": [
        {
          "output_type": "stream",
          "name": "stdout",
          "text": [
            "Word :  dearz\n",
            "earz  <-- delete d\n",
            "darz  <-- delete e\n",
            "derz  <-- delete a\n",
            "deaz  <-- delete r\n",
            "dear  <-- delete z\n"
          ]
        }
      ]
    },
    {
      "cell_type": "code",
      "source": [
        "# Delete with a list comprehension\n",
        "splits = split_a\n",
        "deletes = [L + R[1:] for L,R in splits if R]\n",
        "\n",
        "print(deletes)\n",
        "\n",
        "for i in deletes:\n",
        "  print(i)"
      ],
      "metadata": {
        "colab": {
          "base_uri": "https://localhost:8080/"
        },
        "id": "-YdSEo9cU9hy",
        "outputId": "1ee30a02-93e4-4716-a122-bcb0f7886872"
      },
      "execution_count": 8,
      "outputs": [
        {
          "output_type": "stream",
          "name": "stdout",
          "text": [
            "['earz', 'darz', 'derz', 'deaz', 'dear']\n",
            "earz\n",
            "darz\n",
            "derz\n",
            "deaz\n",
            "dear\n"
          ]
        }
      ]
    },
    {
      "cell_type": "code",
      "source": [
        "vocab = ['dean','deer','dear','fries','and','coke']\n",
        "edits = list(deletes)\n",
        "\n",
        "intersection = set(vocab).intersection(set(edits))\n",
        "print(intersection)\n",
        "print(list(intersection))"
      ],
      "metadata": {
        "colab": {
          "base_uri": "https://localhost:8080/"
        },
        "id": "dNh639n2Wj4y",
        "outputId": "6164d674-b6e4-404b-8916-aee441b08865"
      },
      "execution_count": 11,
      "outputs": [
        {
          "output_type": "stream",
          "name": "stdout",
          "text": [
            "{'dear'}\n",
            "['dear']\n"
          ]
        }
      ]
    }
  ]
}